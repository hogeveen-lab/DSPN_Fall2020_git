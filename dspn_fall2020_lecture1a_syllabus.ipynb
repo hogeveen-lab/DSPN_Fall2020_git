{
 "cells": [
  {
   "cell_type": "markdown",
   "metadata": {},
   "source": [
    "# Syllabus: Data Science in Psychology & Neuroscience (DSPN)"
   ]
  },
  {
   "cell_type": "markdown",
   "metadata": {},
   "source": [
    "## General information\n",
    "\n",
    "Credits: 3 <br>\n",
    "Semester Offering: Fall, 2020 <br>\n",
    "Class location and time: Online remote, TR 9:30 AM – 10:30 AM <br>\n",
    "Zoom link: https://unm.zoom.us/j/92108069579 <br>\n",
    "Meeting ID: 921 0806 9579 <br>\n",
    "\n",
    "## Instructor information\n",
    "\n",
    "Instructor: Dr. Jeremy Hogeveen <br>\n",
    "Email: jhogeveen@unm.edu <br>\n",
    "Office location & hours: Online remote, TR 10:30 AM – 11:00 AM <br>\n",
    "\n",
    "## Course content\n",
    "\n",
    "There is no official textbook. But, here is a list of things I used for inspiration in organizing the course: <br>\n",
    "\n",
    "<ul>\n",
    "    <li><a href=\"https://uk.sagepub.com/en-gb/eur/computational-neuroscience-and-cognitive-modelling/book238062\">Computational Neuroscience & Cognitive Modeling</a></li>\n",
    "    <li><a href=\"https://cogs18.github.io\">UCSD COG Intro to Python</a></li>\n",
    "    <li><a href=\"https://datascienceinpractice.github.io/docs/index.html\">Data Science in Practice</a></li>\n",
    "    <li><a href=\"https://r4ds.had.co.nz\">Data Science in R</a></li>\n",
    "    <li><a href=\"http://math.ecnu.edu.cn/~lfzhou/seminar/%5BJoel_Grus%5D_Data_Science_from_Scratch_First_Princ.pdf\">Data Science from Scratch</a></li>\n",
    "    <li><a href=\"https://github.com/jlord/git-it-electron#what-to-install\">Git-It Github training</a></li>\n",
    "</ul>\n",
    "\n",
    "## Why are we here?\n",
    "\n",
    "1. To provide you with the scaffolding needed to gain data superpowers.\n",
    "2. To enable a soft introduction for new programmers.\n",
    "3. To provide chances to hone / advance existing skillsets.\n",
    "\n"
   ]
  },
  {
   "cell_type": "markdown",
   "metadata": {},
   "source": [
    "# Section 1: "
   ]
  }
 ],
 "metadata": {
  "kernelspec": {
   "display_name": "Python 3",
   "language": "python",
   "name": "python3"
  },
  "language_info": {
   "codemirror_mode": {
    "name": "ipython",
    "version": 3
   },
   "file_extension": ".py",
   "mimetype": "text/x-python",
   "name": "python",
   "nbconvert_exporter": "python",
   "pygments_lexer": "ipython3",
   "version": "3.7.6"
  }
 },
 "nbformat": 4,
 "nbformat_minor": 4
}
