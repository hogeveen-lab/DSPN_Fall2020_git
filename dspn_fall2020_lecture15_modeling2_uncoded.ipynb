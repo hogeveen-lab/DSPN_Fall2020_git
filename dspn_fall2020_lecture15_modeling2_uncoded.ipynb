{
 "cells": [
  {
   "cell_type": "markdown",
   "metadata": {},
   "source": [
    "# Data Science in Psychology & Neuroscience (DSPN): \n",
    "\n",
    "## Lecture 15. Data Modeling (part 1)\n",
    "\n",
    "### Date: October 15, 2020\n",
    "\n",
    "### To-Dos From Last Class:\n",
    "\n",
    "* Assignment #4: <a href=\"https://www.dropbox.com/request/QRN3YlXMeh3okGCA8SMG\">Data Visualization</a> (before 10/15, 23:00 MDT)\n",
    "    \n",
    "### Today:\n",
    "\n",
    "* Regression\n",
    "* Correlation\n",
    "* One-Way ANOVA\n",
    "* Repeated measures ANOVA\n",
    "* Linear Mixed-Effects Models\n",
    "\n",
    "### Homework\n",
    "\n",
    "* Assignment #4: <a href=\"https://www.dropbox.com/request/QRN3YlXMeh3okGCA8SMG\">Data Visualization</a> (before 10/15, 23:00 MDT)"
   ]
  },
  {
   "cell_type": "code",
   "execution_count": 1,
   "metadata": {},
   "outputs": [],
   "source": [
    "# plot theme stuff\n",
    "# Many palettes available online, can customize\n",
    "# these are from: https://colorbrewer2.org/#type=qualitative&scheme=Set1&n=9\n",
    "my_palette <- c(\"#e41a1c\",\"#377eb8\",\"#4daf4a\",\"#984ea3\",\"#ff7f00\")\n",
    "\n",
    "# This is the basic function I use for all the ggplots I create. \n",
    "# Modified from this black themed ggplot function: https://gist.github.com/jslefche/eff85ef06b4705e6efbc\n",
    "my_theme = function(base_size = 24, base_family = \"\") {\n",
    "  \n",
    "  theme_grey(base_size = base_size, base_family = base_family) %+replace%\n",
    "    \n",
    "    theme(\n",
    "      # Specify axis options\n",
    "      axis.line = element_blank(),  \n",
    "      axis.text.x = element_text(size = base_size*0.8, color = \"black\", lineheight = 0.9),  \n",
    "      axis.text.y = element_text(size = base_size*0.8, color = \"black\", lineheight = 0.9),  \n",
    "      axis.ticks = element_line(color = \"black\", size  =  0.2),\n",
    "      axis.title.x = element_text(size = base_size, color = \"black\", margin = margin(10, 0, 0, 0)),\n",
    "      axis.title.y = element_text(size = base_size, color = \"black\", angle = 90, margin = margin(0, 10, 0, 0)),  \n",
    "      axis.ticks.length = unit(0.3, \"lines\"),   \n",
    "      # Specify legend options\n",
    "      legend.background = element_rect(color = NA, fill = \"#ffffff\"),  \n",
    "      legend.key = element_rect(color = \"black\",  fill = \"#ffffff\"),  \n",
    "      legend.key.size = unit(2, \"lines\"),  \n",
    "      legend.key.height = NULL,  \n",
    "      legend.key.width = NULL,      \n",
    "      legend.text = element_text(size = base_size*0.8, color = \"black\"),  \n",
    "      legend.title = element_text(size = base_size*0.8, face = \"bold\", hjust = 0, color = \"black\"),\n",
    "      legend.position = \"right\",  \n",
    "      legend.text.align = NULL,  \n",
    "      legend.title.align = NULL,  \n",
    "      legend.direction = \"vertical\",  \n",
    "      legend.box = NULL, \n",
    "      # Specify panel options\n",
    "      panel.background = element_rect(fill = \"#ffffff\", color  =  NA),  \n",
    "      panel.border = element_rect(fill = NA, color = \"black\"),  \n",
    "      panel.grid.major = element_line(color = \"#ffffff\"),  \n",
    "      panel.grid.minor = element_line(color = \"#ffffff\"),  \n",
    "      panel.spacing = unit(2, \"lines\"),\n",
    "      # Specify facetting options\n",
    "      strip.background = element_rect(fill = \"grey30\", color = \"grey10\"),  \n",
    "      strip.text.x = element_text(size = base_size*0.8, color = \"black\"),  \n",
    "      strip.text.y = element_text(size = base_size*0.8, color = \"black\",angle = -90),  \n",
    "      # Specify plot options\n",
    "      plot.background = element_rect(color = \"#ffffff\", fill = \"#ffffff\"),  \n",
    "      plot.title = element_text(size = base_size*1.2, color = \"black\"),  \n",
    "      plot.margin = unit(rep(1, 4), \"lines\")\n",
    "    ) \n",
    "}"
   ]
  },
  {
   "cell_type": "markdown",
   "metadata": {},
   "source": [
    "# So you want to model some data...\n",
    "\n",
    "<img src='img/decision_tree.png' width='500'>\n",
    "\n",
    "## Table 1: Summarizing the pros / cons\n",
    "\n",
    "| Type of Model | Distribution Assumptions | Characteristics | Sensitivity to violations |\n",
    "| --- | --- | --- | --- |\n",
    "| parametric | specific, inflexible | optimal when assumptions are met | Very high |\n",
    "| robust | parametric, allowing some flexibility | good performance in many situations | Moderate |\n",
    "| nonparametric | no assumptions | Sub-optimal, but acceptable across almost any distribution | Not at all |\n",
    "\n",
    "* Data science in practice: \n",
    "    * If assumptions not violated, use standard parametric models. \n",
    "    * If violated a bit (often the case in psych and neuro) use robust variants.\n",
    "    * If your data are truly wacky, use nonparametric models.\n",
    "        * In class, only nonparametric test I'll cover is Spearman's _rho_.\n",
    "   \n",
    "For a thoughtful discussion on these issues: <a href=\"https://www.sciencedirect.com/science/article/pii/S0005796717301067\">Field & Wilcox. (2017).</a>\n",
    "\n",
    "# Questions to ask yourself:\n",
    "1. What is the hypothesis you're testing?\n",
    "    1. Variables?\n",
    "    2. Directional?\n",
    "2. Are the data going to problematic / violate GLM assumptions?\n",
    "    1. Outliers? \n",
    "    2. Normality? \n",
    "    3. Equal variances?\n",
    "    \n",
    "* Only after understanding 1-2, test a statistical model."
   ]
  },
  {
   "cell_type": "markdown",
   "metadata": {},
   "source": [
    "# Example: Age-related changes in Fluid and Crystallized cognition in young adults\n",
    "\n",
    "## NIH Toolbox Cognition Battery\n",
    "\n",
    "<img src='img/nih_tb.jpg' width='500'>\n",
    "\n",
    "* Our hypotheses: \n",
    "    1. Fluid intelligence will _decrease_ as a function of age.\n",
    "    2. Crystallized intelligence will _increase_ as a function of age."
   ]
  },
  {
   "cell_type": "markdown",
   "metadata": {},
   "source": [
    "## Preamble before we get started..."
   ]
  },
  {
   "cell_type": "code",
   "execution_count": 3,
   "metadata": {},
   "outputs": [
    {
     "name": "stderr",
     "output_type": "stream",
     "text": [
      "── \u001b[1mAttaching packages\u001b[22m ─────────────────────────────────────── tidyverse 1.2.1 ──\n",
      "\n",
      "\u001b[32m✔\u001b[39m \u001b[34mggplot2\u001b[39m 3.3.0     \u001b[32m✔\u001b[39m \u001b[34mpurrr  \u001b[39m 0.3.4\n",
      "\u001b[32m✔\u001b[39m \u001b[34mtibble \u001b[39m 2.1.3     \u001b[32m✔\u001b[39m \u001b[34mdplyr  \u001b[39m 0.8.3\n",
      "\u001b[32m✔\u001b[39m \u001b[34mtidyr  \u001b[39m 1.0.0     \u001b[32m✔\u001b[39m \u001b[34mstringr\u001b[39m 1.3.1\n",
      "\u001b[32m✔\u001b[39m \u001b[34mreadr  \u001b[39m 1.1.1     \u001b[32m✔\u001b[39m \u001b[34mforcats\u001b[39m 0.3.0\n",
      "\n",
      "Warning message:\n",
      "“package ‘ggplot2’ was built under R version 3.5.2”\n",
      "Warning message:\n",
      "“package ‘tibble’ was built under R version 3.5.2”\n",
      "Warning message:\n",
      "“package ‘tidyr’ was built under R version 3.5.2”\n",
      "Warning message:\n",
      "“package ‘dplyr’ was built under R version 3.5.2”\n",
      "── \u001b[1mConflicts\u001b[22m ────────────────────────────────────────── tidyverse_conflicts() ──\n",
      "\u001b[31m✖\u001b[39m \u001b[34mdplyr\u001b[39m::\u001b[32mfilter()\u001b[39m masks \u001b[34mstats\u001b[39m::filter()\n",
      "\u001b[31m✖\u001b[39m \u001b[34mdplyr\u001b[39m::\u001b[32mlag()\u001b[39m    masks \u001b[34mstats\u001b[39m::lag()\n",
      "\n",
      "Parsed with column specification:\n",
      "cols(\n",
      "  .default = col_double(),\n",
      "  Subject = col_integer(),\n",
      "  Release = col_character(),\n",
      "  Acquisition = col_character(),\n",
      "  Gender = col_character(),\n",
      "  Age = col_character(),\n",
      "  `3T_Full_MR_Compl` = col_logical(),\n",
      "  T1_Count = col_integer(),\n",
      "  T2_Count = col_integer(),\n",
      "  `3T_RS-fMRI_Count` = col_integer(),\n",
      "  `3T_Full_Task_fMRI` = col_logical(),\n",
      "  fMRI_WM_PctCompl = col_integer(),\n",
      "  `3T_dMRI_Compl` = col_logical(),\n",
      "  dMRI_3T_ReconVrs = col_character(),\n",
      "  fMRI_3T_ReconVrs = col_character(),\n",
      "  `7T_Full_MR_Compl` = col_logical(),\n",
      "  `7T_RS-fMRI_Count` = col_integer(),\n",
      "  `7T_RS-fMRI_PctCompl` = col_integer(),\n",
      "  `7T_Full_Task_fMRI` = col_logical(),\n",
      "  fMRI_Movie_Compl = col_logical(),\n",
      "  fMRI_Ret_Compl = col_logical()\n",
      "  # ... with 191 more columns\n",
      ")\n",
      "\n",
      "See spec(...) for full column specifications.\n",
      "\n"
     ]
    },
    {
     "data": {
      "text/html": [
       "'the number of participants in the dataset is ≈ 1112'"
      ],
      "text/latex": [
       "'the number of participants in the dataset is ≈ 1112'"
      ],
      "text/markdown": [
       "'the number of participants in the dataset is ≈ 1112'"
      ],
      "text/plain": [
       "[1] \"the number of participants in the dataset is ≈ 1112\""
      ]
     },
     "metadata": {},
     "output_type": "display_data"
    }
   ],
   "source": [
    "library(tidyverse)\n",
    "\n",
    "# loading the hcp_alldat.csv file\n",
    "data <- 'misc_exercises/hcp_alldat.csv'\n",
    "df <- read_csv(data)\n",
    "\n",
    "# how many subjects do we have?\n",
    "nsubs_arr = unique(df$Subject)\n",
    "nsubs = length(nsubs_arr)\n",
    "paste('the number of participants in the dataset is ≈',nsubs,sep=' ')"
   ]
  },
  {
   "cell_type": "markdown",
   "metadata": {},
   "source": [
    "### Question 1A: What are my variables"
   ]
  },
  {
   "cell_type": "code",
   "execution_count": 4,
   "metadata": {},
   "outputs": [
    {
     "data": {
      "image/png": "[encoded data removed]",
      "text/plain": [
       "plot without title"
      ]
     },
     "metadata": {
      "image/png": {
       "height": 420,
       "width": 420
      }
     },
     "output_type": "display_data"
    }
   ],
   "source": [
    "# What does the age variable look like?\n",
    "ggplot(df,aes(x = Age)) +\n",
    "    geom_bar() +\n",
    "    my_theme()\n",
    "\n",
    "# Compute ordinal age variable\n",
    "df <- df %>%\n",
    "    mutate(Age_ord = ifelse(Age=='22-25',1,\n",
    "                           ifelse(Age=='26-30',2,3)))"
   ]
  },
  {
   "cell_type": "code",
   "execution_count": 5,
   "metadata": {},
   "outputs": [
    {
     "data": {
      "image/png": "[encoded data removed]",
      "text/plain": [
       "plot without title"
      ]
     },
     "metadata": {
      "image/png": {
       "height": 420,
       "width": 420
      }
     },
     "output_type": "display_data"
    }
   ],
   "source": [
    "# visualize fluid and crystallized cog ability\n",
    "\n",
    "plot_df <- df %>%\n",
    "    select(Subject,CogCrystalComp_Unadj,CogFluidComp_Unadj) %>%\n",
    "    na.omit() %>%\n",
    "    rename(NIH_Fluid='CogFluidComp_Unadj',\n",
    "          NIH_Crystal='CogCrystalComp_Unadj') %>%\n",
    "    pivot_longer(cols = starts_with('NIH_'),\n",
    "                 names_to = 'Measure',\n",
    "                 values_to = 'Unadjusted_Score')\n",
    "\n",
    "# plot a histogram of the data\n",
    "ggplot(plot_df, aes(x = Unadjusted_Score, fill = Measure)) +\n",
    "    geom_histogram(position=position_dodge(5),bins=10,alpha=0.5,colour='black') +\n",
    "    my_theme()"
   ]
  },
  {
   "cell_type": "markdown",
   "metadata": {},
   "source": [
    "### Question 1B: Directional?\n",
    "\n",
    "* We're interested in how age and cognitive function are related. \n",
    "    * Is there a direction implicit to this question?"
   ]
  },
  {
   "cell_type": "markdown",
   "metadata": {},
   "source": [
    "## Revisiting: Questions to ask yourself...\n",
    "1. ~~What is the hypothesis you're testing?~~ \n",
    "<span style=\"background-color: #FFFF00\">Our hypotheses: 1. Fluid intelligence will _decrease_ as a function of age.; 2. Crystallized intellience will _increase_ as a function of age.</span>\n",
    "\n",
    "    1. ~~Variables?~~\n",
    "    \n",
    "    <span style=\"background-color: #FFFF00\">Age, NIH-Fluid, NIH-Crystallized</span>\n",
    "    \n",
    "    2. ~~Directional?~~\n",
    "    \n",
    "    <span style=\"background-color: #FFFF00\">NIH ~ Age</span>\n",
    "\n",
    "<img src='img/decision_tree_dir.png' width='500'>\n",
    "    \n",
    "2. Are the data going to problematic / violate GLM assumptions?\n",
    "    1. ~~Outliers?~~ <span style=\"background-color: #FFFF00\">Yes, probably!</span>\n",
    "    2. ___Normality?___\n",
    "    3. ___Equal variances?___"
   ]
  },
  {
   "cell_type": "code",
   "execution_count": 6,
   "metadata": {},
   "outputs": [
    {
     "data": {
      "text/plain": [
       "\n",
       "\tShapiro-Wilk normality test\n",
       "\n",
       "data:  df$CogFluidComp_Unadj\n",
       "W = 0.98943, p-value = 4.245e-07\n"
      ]
     },
     "metadata": {},
     "output_type": "display_data"
    },
    {
     "name": "stdout",
     "output_type": "stream",
     "text": [
      "\n",
      "\tShapiro-Wilk normality test\n",
      "\n",
      "data:  df$CogCrystalComp_Unadj\n",
      "W = 0.99584, p-value = 0.004382\n",
      "\n",
      "[1] \"run a nonparametric or robust test!\"\n"
     ]
    }
   ],
   "source": [
    "# testing the normality of fluid cognitive ability\n",
    "shapiro.test(df$CogFluidComp_Unadj)\n",
    "\n",
    "# testing the normality of crystalized cog ability\n",
    "mod <- shapiro.test(df$CogCrystalComp_Unadj)\n",
    "print(mod)\n",
    "# routinize which model to run based on shapiro result\n",
    "if(mod$p.value<0.05){\n",
    "    print('run a nonparametric or robust test!')\n",
    "    # insert the model code here\n",
    "}"
   ]
  },
  {
   "cell_type": "code",
   "execution_count": 7,
   "metadata": {},
   "outputs": [
    {
     "data": {
      "text/plain": [
       "\n",
       "\tF test to compare two variances\n",
       "\n",
       "data:  CogFluidComp_Unadj by Gender\n",
       "F = 0.87951, num df = 594, denom df = 500, p-value = 0.1337\n",
       "alternative hypothesis: true ratio of variances is not equal to 1\n",
       "95 percent confidence interval:\n",
       " 0.7427383 1.0401826\n",
       "sample estimates:\n",
       "ratio of variances \n",
       "         0.8795101 \n"
      ]
     },
     "metadata": {},
     "output_type": "display_data"
    },
    {
     "data": {
      "text/plain": [
       "\n",
       "\tBartlett test of homogeneity of variances\n",
       "\n",
       "data:  df$CogFluidComp_Unadj and df$Age_ord\n",
       "Bartlett's K-squared = 8.6589, df = 2, p-value = 0.01318\n"
      ]
     },
     "metadata": {},
     "output_type": "display_data"
    },
    {
     "data": {
      "text/plain": [
       "\n",
       "\tBartlett test of homogeneity of variances\n",
       "\n",
       "data:  df$CogCrystalComp_Unadj and df$Age_ord\n",
       "Bartlett's K-squared = 5.9097, df = 2, p-value = 0.05209\n"
      ]
     },
     "metadata": {},
     "output_type": "display_data"
    }
   ],
   "source": [
    "# Homoscedasticity across a 2-level factor\n",
    "var.test(CogFluidComp_Unadj ~ Gender, data=df)\n",
    "\n",
    "# Homoscedasticity across a k-level factor\n",
    "bartlett.test(df$CogFluidComp_Unadj,df$Age_ord)\n",
    "bartlett.test(df$CogCrystalComp_Unadj,df$Age_ord)"
   ]
  },
  {
   "cell_type": "markdown",
   "metadata": {},
   "source": [
    "# Let's model the data!\n",
    "\n",
    "* Our independent variable\n",
    "    * Age\n",
    "* Our dependent variables\n",
    "    * NIH-Fluid\n",
    "    * NIH-Crystallized\n",
    "* Our model of choice\n",
    "    * Regression -- Robust variant (MM-type estimators)\n",
    "    * Can compare to ordinary least squares (OLS) regression model"
   ]
  },
  {
   "cell_type": "code",
   "execution_count": 9,
   "metadata": {},
   "outputs": [],
   "source": [
    "# Run the standard OLS lm model on fluid cognitive ability"
   ]
  },
  {
   "cell_type": "code",
   "execution_count": 10,
   "metadata": {},
   "outputs": [],
   "source": [
    "# Run the robust variant on fluid cognitive ability"
   ]
  },
  {
   "cell_type": "code",
   "execution_count": null,
   "metadata": {},
   "outputs": [],
   "source": [
    "# Run the standard OLS lm model on crystallized cognitive ability"
   ]
  },
  {
   "cell_type": "code",
   "execution_count": null,
   "metadata": {},
   "outputs": [],
   "source": [
    "# Run the robust variant on crystallized cognitive ability"
   ]
  },
  {
   "cell_type": "code",
   "execution_count": 11,
   "metadata": {},
   "outputs": [],
   "source": [
    "# Visualize the relationships"
   ]
  },
  {
   "cell_type": "markdown",
   "metadata": {},
   "source": [
    "# What if we had a covariate to include?\n",
    "\n",
    "* e.g. Control for variance in internalizing psychopathology"
   ]
  },
  {
   "cell_type": "code",
   "execution_count": 13,
   "metadata": {},
   "outputs": [],
   "source": [
    "# Run the a robust model on fluid cog ~ age + sadness"
   ]
  },
  {
   "cell_type": "markdown",
   "metadata": {},
   "source": [
    "# What if we didn't have a directional prediction?\n",
    "\n",
    "* e.g. Association between fluid and crystallized\n",
    "\n",
    "<img src='img/decision_tree_undir.png' width='500'>"
   ]
  },
  {
   "cell_type": "code",
   "execution_count": 14,
   "metadata": {},
   "outputs": [],
   "source": [
    "# Run a standard correlation between fluid and crystallized"
   ]
  },
  {
   "cell_type": "code",
   "execution_count": 15,
   "metadata": {},
   "outputs": [],
   "source": [
    "# Run a ranked correlation between fluid and crystallized"
   ]
  },
  {
   "cell_type": "markdown",
   "metadata": {},
   "source": [
    "# What if we wanted to make a specific inference about group __differences__?\n",
    "\n",
    "* e.g. Which age group differs from the others wrt fluid intelligence?\n",
    "\n",
    "<img src='img/decision_tree_diffs.png' width='500'>"
   ]
  },
  {
   "cell_type": "code",
   "execution_count": null,
   "metadata": {},
   "outputs": [],
   "source": []
  },
  {
   "cell_type": "markdown",
   "metadata": {},
   "source": [
    "### Let's also try a Robust Bootstrap version of the one-way ANOVA...\n",
    "* Test the hypothesis of equal __trimmed__ means using a bootstrap method.\n",
    "    * https://rdrr.io/rforge/WRS2/man/t1waybt.html"
   ]
  },
  {
   "cell_type": "code",
   "execution_count": null,
   "metadata": {},
   "outputs": [],
   "source": []
  },
  {
   "cell_type": "markdown",
   "metadata": {},
   "source": [
    "# Repeated-Measures ANOVA\n",
    "\n",
    "* e.g. Testing for age-related changes on specific fluid cog subscales\n",
    "\n",
    "* Repeated-Measures ANOVA with a bw subjects factor\n",
    "\n",
    "| Participant | Age | flexibility (DCCS) | inhibition (Flanker) | processing speed (PCPS) |\n",
    "| --- | --- | --- | --- | --- |\n",
    "| S1 | S1_Age | S1_DCCS |  S1_Flanker | S1_PCPS |\n",
    "| S2 | S2_Age | S2_DCCS |  S2_Flanker | S2_PCPS |\n",
    "| ... | ... | ... | ... | ... |\n",
    "| Sn | Sn_Age | Sn_DCCS |  Sn_Flanker | Sn_PCPS |"
   ]
  },
  {
   "cell_type": "code",
   "execution_count": null,
   "metadata": {},
   "outputs": [],
   "source": []
  },
  {
   "cell_type": "markdown",
   "metadata": {},
   "source": [
    "<img src='img/LMMs.png' width='500'>\n",
    "\n",
    "Wonderful (relatively brief) intro lecture: https://www.youtube.com/watch?v=QCqF-2E86r0\n",
    "\n",
    "## Things that often muck up regression and rm-anova \n",
    "* Inability to accommodate \n",
    "* Nested factors (e.g. stimulus identity:condition, participant:testing site, etc.)\n",
    "* Missing data & unbalanced designs (e.g. if we had test-retest on some but not all subjects)\n",
    "* Repeats as a continuous factor (e.g. time for longitudinal studies)\n",
    "\n",
    "## LMMs are more flexible, but a bit more esoteric\n",
    "\n",
    "\n",
    "* Incorporate fixed and random effects. \n",
    "    * Fixed:  Data has been gathered from all levels that are of interest.\n",
    "        * Example: N-back 2 vs 0 -- We don't intend to say anything about 3-back.\n",
    "        * Indicators:\n",
    "            * Primary independent variable(s) of interest.\n",
    "            * Secondary covariates you want to control for (e.g. demographic vars).\n",
    "            * Only has 2 levels.\n",
    "    * Random: If the levels of a factor are randomly sampled from a population, it is random.\n",
    "        * Example: Subject, testing site, etc.\n",
    "        * Indicators:\n",
    "            * Not of interest, but want to account for variance.\n",
    "            * Want to generalize conclusions to entire population.\n",
    "            * Any interaction with a random factor."
   ]
  },
  {
   "cell_type": "code",
   "execution_count": null,
   "metadata": {},
   "outputs": [],
   "source": []
  },
  {
   "cell_type": "code",
   "execution_count": null,
   "metadata": {},
   "outputs": [],
   "source": []
  },
  {
   "cell_type": "markdown",
   "metadata": {},
   "source": [
    "## Interpretation\n",
    "* The model designates that the slope and intercept of the regression line are fixed by the pooled data.\n",
    "    * Fixed effects intercept and coefficients pooled across random FX.\n",
    "* Random effect intercepts and slopes allowed to vary randomly.\n",
    "    * In lmer output, we only get information about the extent of variance.\n",
    "    * <a href=\"https://www.rdocumentation.org/packages/lme4/versions/1.1-23/topics/ranef\">ranef</a> for more info. on random FX.\n",
    "    \n",
    "## We can also do a robust variant of the LMM..."
   ]
  },
  {
   "cell_type": "code",
   "execution_count": null,
   "metadata": {},
   "outputs": [],
   "source": []
  }
 ],
 "metadata": {
  "kernelspec": {
   "display_name": "R",
   "language": "R",
   "name": "ir"
  },
  "language_info": {
   "codemirror_mode": "r",
   "file_extension": ".r",
   "mimetype": "text/x-r-source",
   "name": "R",
   "pygments_lexer": "r",
   "version": "3.5.0"
  }
 },
 "nbformat": 4,
 "nbformat_minor": 4
}
