{
 "cells": [
  {
   "cell_type": "markdown",
   "metadata": {},
   "source": [
    "# Data Science in Psychology & Neuroscience (DSPN): \n",
    "\n",
    "## Lecture 6. Integrate-and-fire neuron\n",
    "\n",
    "### Date: September 3, 2020\n",
    "\n",
    "### To-Dos From Last Class:\n",
    "\n",
    "* Read short primer on the \"integrate and fire\" neuron\n",
    "* Download Assignment #2 starter kit from <a href=\"https://github.com/hogeveen-lab/DSPN_Fall2020_git\">github</a>\n",
    "\n",
    "### Today:\n",
    "\n",
    "* Introduction to the action potential, and Lapicque's model\n",
    "* Spreadsheet implementation\n",
    "\n",
    "### Homework\n",
    "\n",
    "* Submit Assignment #2: <a href=\"https://www.dropbox.com/request/5VcxN4lRaTL4CMk5JGSR\">Integrate & Fire</a> (before 9/10, 23:00 MDT)"
   ]
  },
  {
   "cell_type": "markdown",
   "metadata": {},
   "source": [
    "## Neurons and ions\n",
    "\n",
    "<img src='img/resting_membrane.png' width='400'>\n",
    "\n",
    "* Neurons are cells with internal fluids enclosed by a leaky membrane.\n",
    "    * There are channels that selectively allow certain ions to cross.\n",
    "    * The leaking of specific ions varies as a function of concentration and electrical potential.\n",
    "* Potential: Electrical charge stored across the membrane.\n",
    "* Normally, due to several factors, a negative resting potential is maintained\n",
    "    * Organic A- can't leave cell.\n",
    "    * More K+ than Na+ channels.\n",
    "    * 2-3 NA+/K+ pump.\n",
    "\n",
    "## Action Potential\n",
    "* When an excitatory presynaptic cell fires, certain channels on the postsynaptic cell open, and Na+ moves into the cell.\n",
    "* When enough channels open, a flood of Na+ moves into the cell allowong rapid positive charge accumulation inside the cell.\n",
    "    * Somewhat automated: Ion channels open, then close after the spike and everything resets to baseline.\n",
    "        * __Ion channels are conditional.__\n",
    "            * __IF__ or __ELSE__ determined by the electrochemical milieu inside and outside the membrane.\n",
    "\n",
    "<img src='img/action_membrane.png' width='400'>"
   ]
  },
  {
   "cell_type": "markdown",
   "metadata": {},
   "source": [
    "# The goal: Simulate this biophysical process using a computational model of the membrane potential across time."
   ]
  },
  {
   "cell_type": "markdown",
   "metadata": {},
   "source": [
    "### e.g. Nobel-Prize Winning __Hodgkin-Huxley__ Neuron\n",
    "\n",
    "<img src='img/H_H_screenshot.png' width='600'>\n",
    "\n",
    "$$c~\\frac{dV}{dt} = I_{tot} - (\\bar{g}_{Na} m^3 h (V(t) - E_{Na}) + \\bar{g}_{K} n^4 (V(t) - E_{K}) + \\bar{g}_{L} (V(t) - E_{L}))$$\n",
    "\n",
    "#### Notes\n",
    "\n",
    "* <a href='https://ackmanlab.com/2017-06-30-hodgkin-huxley-model.html'>Online HH model in Java</a>\n",
    "* Injected current minus summed currents for Na+, Ka+, and L (leak)\n",
    "    *  Leak: Endogenous permeability of the cell membrane"
   ]
  },
  {
   "cell_type": "markdown",
   "metadata": {},
   "source": [
    "### Lapicque's (1907) paper on \"Quantitative investigations of electrical nerve excitation\"\n",
    "\n",
    "* Introduces a model of nerve stimulation (how much and how long) that he compares to real data from a frog\n",
    "\n",
    "<img src=\"img/Lapicque.jpeg\" width=\"400\">\n",
    "\n",
    "### Lapicque's rig:\n",
    "\n",
    "#### Voltage intensity:\n",
    "* \"Used a battery. Arbitrary voltages between the battery voltage and zero were obtained by a voltage divider, created from a long wire with a slider... This slider is the reason why the voltages in the paper are reported in centimeters.\"\n",
    "\n",
    "#### Stimulation timing / duration:\n",
    "* \"Lapicque used ... a ballistic rheotome. This is a gun-like contraption ... first shoots a bullet through a first wire, making the contact, and a bit later the same bullet cuts a second wire in its path, breaking the contact. By varying the distance between the wires, the pulse duration was precisely adjusted, and ... durations are reported in centimeters as well.\"\n",
    "    \n",
    "<img src=\"img/surprise.gif\" width=\"300\">\n",
    "\n",
    "### Primary insight: If we just want to model a spiking neuron, are all those ion channels in the H-H neuron necessary?\n",
    "\n",
    "* A neuron can be modeled as a simple capacitor with a leak.\n",
    "    * Enabled him to frame the problem in terms of simple physical properties of circuits (Ohm's law, Kirchoff's Point Rule, etc.).\n",
    "* Lapicque's work forms the basis for many models of the action potential.\n",
    "    * In turn, the __\"leaky integrate-and-fire\"__ \n",
    "\n",
    "#### LIF neurons respond similarly to H-H neurons in many stimulation contexts\n",
    "<img src=\"img/iandf_hh_comparison.jpg\" width=\"400\">\n",
    "<a href=\"https://www.researchgate.net/publication/10722710_Dynamics_of_neuronal_populations_Eigenfunction_theory_some_solvable_cases\">Sirovich, 2003</a>\n",
    "\n",
    "#### A network of LIF neurons was recently used to build one of the world's best large-scale models of the functining human brain\n",
    "<a href=\"https://science.sciencemag.org/content/sci/338/6111/1202.full.pdf\">Eliasmith et al., 2011</a>"
   ]
  },
  {
   "cell_type": "code",
   "execution_count": 4,
   "metadata": {},
   "outputs": [
    {
     "data": {
      "text/html": [
       "<iframe width=\"560\" height=\"315\" src=\"https://www.youtube.com/embed/P_WRCyNQ9KY\" frameborder=\"0\" allow=\"accelerometer; autoplay; encrypted-media; gyroscope; picture-in-picture\" allowfullscreen></iframe>"
      ],
      "text/plain": [
       "<IPython.core.display.HTML object>"
      ]
     },
     "execution_count": 4,
     "metadata": {},
     "output_type": "execute_result"
    }
   ],
   "source": [
    "from IPython.display import HTML\n",
    "\n",
    "# Youtube\n",
    "HTML('<iframe width=\"560\" height=\"315\" src=\"https://www.youtube.com/embed/P_WRCyNQ9KY\" frameborder=\"0\" allow=\"accelerometer; autoplay; encrypted-media; gyroscope; picture-in-picture\" allowfullscreen></iframe>')"
   ]
  },
  {
   "cell_type": "markdown",
   "metadata": {},
   "source": [
    "## The Integrate and Fire Equation\n",
    "\n",
    "$$ \\tau \\frac{dV(t)}{dt} = -V(t) + R~I(t) $$\n",
    "\n",
    "* The equation tells us how voltage changes over time\n",
    "    * Just like our spring equation told us how the position of a weight changed over time."
   ]
  },
  {
   "cell_type": "markdown",
   "metadata": {},
   "source": [
    "#### Notes\n",
    "\n",
    "1. $\\frac{dV}{dt}$: Rate of change\n",
    "\n",
    "2. $\\tau$: Membrane time constant\n",
    "\n",
    "    Related to membrane capacitance, determines how much time it takes for the membrane to reach threshold.\n",
    "\n",
    "3. Why does the voltage term on the right have a negative sign?\n",
    "\n",
    "    To get the intuition of a model you don't always have to compute things. You can also get some qualitative behaviour just by looking at it. The larger the voltage the more negative becomes its rate of change and vice versa. It drives everything back to some point at which the rate of change is at an equilibrium point.\n",
    "\n",
    "4. $I(t)$: Current\n",
    "\n",
    "    $I$ is the common abbreviation for current. Intensity.\n",
    "    \n",
    "5. $R$: Resistance\n",
    "\n",
    "    How hard it is for ions to cross the membrane.\n",
    "    \n",
    "6.  Equation in English:\n",
    "\n",
    "    The voltage in the future will be a sum of whatever current is being added minus a function of the current voltage.\n",
    "    \n",
    "#### Let's walk through the simplest version in Excel..."
   ]
  },
  {
   "cell_type": "markdown",
   "metadata": {},
   "source": [
    "# Assignment #2: Convert integrate-and-fire spreadsheet to a Python script.\n",
    "## BONUS: i) Code it without using the starter. \n",
    "## ii) Skip the I-and-F and code a H-H neuron (attached my feeble MATLAB version to the Assignment #2 starter kit)"
   ]
  },
  {
   "cell_type": "code",
   "execution_count": null,
   "metadata": {},
   "outputs": [],
   "source": []
  }
 ],
 "metadata": {
  "kernelspec": {
   "display_name": "Python 3",
   "language": "python",
   "name": "python3"
  },
  "language_info": {
   "codemirror_mode": {
    "name": "ipython",
    "version": 3
   },
   "file_extension": ".py",
   "mimetype": "text/x-python",
   "name": "python",
   "nbconvert_exporter": "python",
   "pygments_lexer": "ipython3",
   "version": "3.7.6"
  }
 },
 "nbformat": 4,
 "nbformat_minor": 4
}
