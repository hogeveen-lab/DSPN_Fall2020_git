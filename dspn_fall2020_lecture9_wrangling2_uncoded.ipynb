{
 "cells": [
  {
   "cell_type": "markdown",
   "metadata": {},
   "source": [
    "# Data Science in Psychology & Neuroscience (DSPN): \n",
    "\n",
    "## Lecture 9. Data Wrangling (part 2)\n",
    "\n",
    "### Date: September 22, 2020\n",
    "\n",
    "### To-Dos From Last Class:\n",
    "\n",
    "* Download data for today's wrangling session #1 dataset from <a href=\"https://github.com/hogeveen-lab/DSPN_Fall2020_git\">Github</a>\n",
    "\n",
    "### Today:\n",
    "\n",
    "* Data wrangling in Pandas (stealing heavily from this <a href=\"https://pandas.pydata.org/Pandas_Cheat_Sheet.pdf\">Cheatsheet</a>)\n",
    "    * Last part of last class: Combining data frames\n",
    "* Wrangle some real data\n",
    "\n",
    "### Homework\n",
    "\n",
    "* Download Assignment #3 start kit data\n",
    "    * Beginner level\n",
    "    * Advanced level"
   ]
  },
  {
   "cell_type": "markdown",
   "metadata": {},
   "source": [
    "# Data wrangling in Pandas\n",
    "\n",
    "## (finishing from last class) 5. Combining Data Sets \n",
    "\n",
    "<img src=\"img/combining_data.png\" width=\"600\">"
   ]
  },
  {
   "cell_type": "code",
   "execution_count": null,
   "metadata": {},
   "outputs": [],
   "source": []
  },
  {
   "cell_type": "markdown",
   "metadata": {},
   "source": [
    "# Wrangle some real data\n",
    "\n",
    "## Breaking into 8 code chunks\n",
    "\n",
    "1. Import packages\n",
    "2. Setting paths to the first level data\n",
    "3. Load a test subject to make sense of things\n",
    "4. Iterate through to load the first level data\n",
    "    * Concatenate all together to create one data frame to rule them all\n",
    "5. Merge with questionnaire data\n",
    "6. Write to trial-level allsubjects csv\n",
    "#### Pick up next class..\n",
    "7. Compute summary measures\n",
    "8. Save to summary allsubjects csv"
   ]
  },
  {
   "cell_type": "code",
   "execution_count": null,
   "metadata": {},
   "outputs": [],
   "source": []
  },
  {
   "cell_type": "code",
   "execution_count": null,
   "metadata": {},
   "outputs": [],
   "source": []
  },
  {
   "cell_type": "code",
   "execution_count": null,
   "metadata": {},
   "outputs": [],
   "source": []
  },
  {
   "cell_type": "code",
   "execution_count": null,
   "metadata": {},
   "outputs": [],
   "source": []
  },
  {
   "cell_type": "code",
   "execution_count": null,
   "metadata": {},
   "outputs": [],
   "source": []
  },
  {
   "cell_type": "code",
   "execution_count": null,
   "metadata": {},
   "outputs": [],
   "source": []
  },
  {
   "cell_type": "code",
   "execution_count": null,
   "metadata": {},
   "outputs": [],
   "source": []
  }
 ],
 "metadata": {
  "kernelspec": {
   "display_name": "Python 3",
   "language": "python",
   "name": "python3"
  },
  "language_info": {
   "codemirror_mode": {
    "name": "ipython",
    "version": 3
   },
   "file_extension": ".py",
   "mimetype": "text/x-python",
   "name": "python",
   "nbconvert_exporter": "python",
   "pygments_lexer": "ipython3",
   "version": "3.7.6"
  }
 },
 "nbformat": 4,
 "nbformat_minor": 4
}
