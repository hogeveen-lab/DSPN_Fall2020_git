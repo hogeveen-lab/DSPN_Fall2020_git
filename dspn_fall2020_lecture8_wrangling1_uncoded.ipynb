{
 "cells": [
  {
   "cell_type": "markdown",
   "metadata": {},
   "source": [
    "# Data Science in Psychology & Neuroscience (DSPN): \n",
    "\n",
    "## Lecture 8. Data Wrangling (part 1)\n",
    "\n",
    "### Date: September 10, 2020\n",
    "\n",
    "### To-Dos From Last Class:\n",
    "\n",
    "* Download data for today's wrangling session #1 dataset from <a href=\"https://github.com/hogeveen-lab/DSPN_Fall2020_git\">Github</a>\n",
    "\n",
    "### Today:\n",
    "\n",
    "* What is data wrangling?\n",
    "* Sample dataset: Automatic vs. Controlled Imitation Task\n",
    "    * Task design (\"What should my data look like?\")\n",
    "    * Folder organization\n",
    "    * Read in first-level data and convert to second-level\n",
    "    * Inspect the data\n",
    "\n",
    "### Homework\n",
    "\n",
    "* Enjoy life!"
   ]
  },
  {
   "cell_type": "markdown",
   "metadata": {},
   "source": [
    "# What is data wrangling?\n",
    "\n",
    "<img src=\"img/data_wrangling_schematic.png\" width=\"600\">\n",
    "\n",
    "<img src=\"img/lotr.gif\">"
   ]
  },
  {
   "cell_type": "markdown",
   "metadata": {},
   "source": [
    "# Task Design\n",
    "\n",
    "## Why does it matter?\n",
    "\n",
    "* Need to know what the first-level data _should_ look like\n",
    "\n",
    "## Automatic Imitation Experiment\n",
    "\n",
    "<img src=\"img/ait_task.png\">\n",
    "\n",
    "* 20 trials per condition (100 total responses for each participant)\n",
    "    * Average across cued response finger\n",
    "* Stuff I know to look for:\n",
    "    * Each trial is an image sequence, containing both a finger lift and a subsequent finger press"
   ]
  },
  {
   "cell_type": "markdown",
   "metadata": {},
   "source": [
    "# Quick note on file / folder organization\n",
    "\n",
    "<img src=\"img/folder_org.png\" width=\"600\">"
   ]
  },
  {
   "cell_type": "markdown",
   "metadata": {},
   "source": [
    "# Read in the data\n",
    "\n",
    "## Breaking into 4 code chunks\n",
    "\n",
    "1. Import packages\n",
    "2. Setting paths to the first level data\n",
    "3. Load a test subject to make sense of things\n",
    "4. Iterate through to load the first level data\n",
    "    * Concatenate all together to create one data frame to rule them all"
   ]
  },
  {
   "cell_type": "code",
   "execution_count": 1,
   "metadata": {},
   "outputs": [],
   "source": [
    "### Part 1 --> Importing data wrangling packages I often use"
   ]
  },
  {
   "cell_type": "code",
   "execution_count": 2,
   "metadata": {},
   "outputs": [],
   "source": [
    "### Part 2 --> setting paths to the first level data"
   ]
  },
  {
   "cell_type": "code",
   "execution_count": 3,
   "metadata": {},
   "outputs": [],
   "source": [
    "### Part 3 --> Loading in a test subject to make sense of things"
   ]
  },
  {
   "cell_type": "code",
   "execution_count": 4,
   "metadata": {},
   "outputs": [],
   "source": [
    "### Part 4 --> Iterating through to get all the first level data, concatenating into allsubs data frame"
   ]
  },
  {
   "cell_type": "code",
   "execution_count": null,
   "metadata": {},
   "outputs": [],
   "source": []
  }
 ],
 "metadata": {
  "kernelspec": {
   "display_name": "Python 3",
   "language": "python",
   "name": "python3"
  },
  "language_info": {
   "codemirror_mode": {
    "name": "ipython",
    "version": 3
   },
   "file_extension": ".py",
   "mimetype": "text/x-python",
   "name": "python",
   "nbconvert_exporter": "python",
   "pygments_lexer": "ipython3",
   "version": "3.7.6"
  }
 },
 "nbformat": 4,
 "nbformat_minor": 4
}
