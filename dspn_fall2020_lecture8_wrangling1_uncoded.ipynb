{
 "cells": [
  {
   "cell_type": "markdown",
   "metadata": {},
   "source": [
    "# Data Science in Psychology & Neuroscience (DSPN): \n",
    "\n",
    "## Lecture 8. Data Wrangling (part 1)\n",
    "\n",
    "### Date: September 10, 2020\n",
    "\n",
    "### To-Dos From Last Class:\n",
    "\n",
    "* Enjoy life! (and ignore my premature suggestion to d/l a dataset)\n",
    "\n",
    "### Today:\n",
    "\n",
    "* What is data wrangling?\n",
    "* What is Pandas?\n",
    "* Data wrangling in Pandas.\n",
    "\n",
    "### Homework\n",
    "\n",
    "* Download data for today's wrangling session #1 dataset from <a href=\"https://github.com/hogeveen-lab/DSPN_Fall2020_git\">Github</a>\n",
    "\n"
   ]
  },
  {
   "cell_type": "markdown",
   "metadata": {},
   "source": [
    "# What is data wrangling?\n",
    "\n",
    "<img src=\"img/data_wrangling_schematic.png\" width=\"600\">\n",
    "\n",
    "<img src=\"img/lotr.gif\">"
   ]
  },
  {
   "cell_type": "code",
   "execution_count": null,
   "metadata": {},
   "outputs": [],
   "source": []
  }
 ],
 "metadata": {
  "kernelspec": {
   "display_name": "Python 3",
   "language": "python",
   "name": "python3"
  },
  "language_info": {
   "codemirror_mode": {
    "name": "ipython",
    "version": 3
   },
   "file_extension": ".py",
   "mimetype": "text/x-python",
   "name": "python",
   "nbconvert_exporter": "python",
   "pygments_lexer": "ipython3",
   "version": "3.7.6"
  }
 },
 "nbformat": 4,
 "nbformat_minor": 4
}
