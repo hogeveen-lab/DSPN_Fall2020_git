{
 "cells": [
  {
   "cell_type": "markdown",
   "metadata": {},
   "source": [
    "# Data Science in Psychology & Neuroscience (DSPN): \n",
    "\n",
    "## Lecture 14. Data Modeling (part 1)\n",
    "\n",
    "### Date: October 13, 2020\n",
    "\n",
    "### To-Dos From Last Class:\n",
    "\n",
    "* Assignment #4: <a href=\"https://www.dropbox.com/request/QRN3YlXMeh3okGCA8SMG\">Data Visualization</a> (before 10/15, 23:00 MDT)\n",
    "    \n",
    "### Today:\n",
    "\n",
    "* So you want to model some data in R.\n",
    "* Modeling data in R.\n",
    "    * When standard GLM assumptions are met.\n",
    "    * When GLM assumptions are not met (often true in psych and neuro).\n",
    "\n",
    "### Homework\n",
    "\n",
    "* Assignment #4: <a href=\"https://www.dropbox.com/request/QRN3YlXMeh3okGCA8SMG\">Data Visualization</a> (before 10/15, 23:00 MDT)"
   ]
  },
  {
   "cell_type": "code",
   "execution_count": null,
   "metadata": {},
   "outputs": [],
   "source": []
  }
 ],
 "metadata": {
  "kernelspec": {
   "display_name": "R",
   "language": "R",
   "name": "ir"
  },
  "language_info": {
   "codemirror_mode": "r",
   "file_extension": ".r",
   "mimetype": "text/x-r-source",
   "name": "R",
   "pygments_lexer": "r",
   "version": "3.5.0"
  }
 },
 "nbformat": 4,
 "nbformat_minor": 4
}
