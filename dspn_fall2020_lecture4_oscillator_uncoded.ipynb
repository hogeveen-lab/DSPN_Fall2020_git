{
 "cells": [
  {
   "cell_type": "markdown",
   "metadata": {},
   "source": [
    "# Data Science in Psychology & Neuroscience (DSPN): \n",
    "\n",
    "## Lecture 4. Oscillator\n",
    "\n",
    "### Date: August 27, 2020\n",
    "\n",
    "### To-Dos From Last Class:\n",
    "\n",
    "* Downloaded oscillator starter kit from <a href=\"https://github.com/hogeveen-lab/DSPN_Fall2020_git\">github</a>\n",
    "\n",
    "### Today:\n",
    "\n",
    "* Complete spreadsheet version of the oscillator\n",
    "* Set up conversion to Python\n",
    "\n",
    "### Homework\n",
    "\n",
    "* Submit Assignment #1: <a href=\"https://www.dropbox.com/request/VNNoOUDkK7Vpw4N6l1wv\">Oscillator</a> (before 9/1, 23:00 MDT)"
   ]
  },
  {
   "cell_type": "markdown",
   "metadata": {},
   "source": [
    "# Background\n",
    "\n",
    "## What is oscillation?\n",
    "* Repetitive variation of some measure across time around a central value\n",
    "    * Examples in neuroscience?\n",
    "* e.g. Motion of a mass on a spring\n",
    "\n",
    "<img src=\"img/oscillator_spring.gif\">\n",
    "\n",
    "## Why?\n",
    "1. It is good to start with simple situations.\n",
    "2. It is good to start with scenarios where you can trust your intuitions.\n",
    "3. It is good if you can start with examples where you can \"look up\" the right answer, before implementing models for which you do not have the right answer.\n",
    "\n",
    "## Analytic formalization\n",
    "\n",
    "$\n",
    "\\begin{equation} \n",
    "a(t) = -Ps(t) \n",
    "\\end{equation}\n",
    "$\n",
    "\n",
    "* The acceleration (a) of our weight at a point in time (t) is equal to a constant (P) and our current location (s).\n",
    "\n",
    "$\n",
    "\\begin{equation}\n",
    "Acceleration = \\frac{dV}{dt}\n",
    "\\end{equation}\n",
    "$\n",
    "\n",
    "* Acceleration is also a function of the change in velocity over time\n",
    "\n",
    "__We can solve this using Euler's Method for differential equations, or through brute force in Microsoft Excel__"
   ]
  },
  {
   "cell_type": "code",
   "execution_count": null,
   "metadata": {},
   "outputs": [],
   "source": []
  }
 ],
 "metadata": {
  "kernelspec": {
   "display_name": "Python 3",
   "language": "python",
   "name": "python3"
  },
  "language_info": {
   "codemirror_mode": {
    "name": "ipython",
    "version": 3
   },
   "file_extension": ".py",
   "mimetype": "text/x-python",
   "name": "python",
   "nbconvert_exporter": "python",
   "pygments_lexer": "ipython3",
   "version": "3.7.6"
  }
 },
 "nbformat": 4,
 "nbformat_minor": 4
}
