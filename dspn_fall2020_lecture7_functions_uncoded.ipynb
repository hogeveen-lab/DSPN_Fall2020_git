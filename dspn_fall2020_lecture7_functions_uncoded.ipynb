{
 "cells": [
  {
   "cell_type": "markdown",
   "metadata": {},
   "source": [
    "# Data Science in Psychology & Neuroscience (DSPN): \n",
    "\n",
    "## Lecture 7. Functions\n",
    "\n",
    "### Date: September 10, 2020\n",
    "\n",
    "### To-Dos From Last Class:\n",
    "\n",
    "* Submit Assignment #2: <a href=\"https://www.dropbox.com/request/5VcxN4lRaTL4CMk5JGSR\">Integrate & Fire</a> (before 9/10, 23:00 MDT)\n",
    "\n",
    "### Today:\n",
    "\n",
    "* Code less\n",
    "* What are functions?\n",
    "* Coding functions in Python\n",
    "    * def\n",
    "    * Algorithms\n",
    "    * Namespace\n",
    "    * _If time allows_: lambda Functions\n",
    "\n",
    "### Homework\n",
    "\n",
    "* Submit Assignment #2: <a href=\"https://www.dropbox.com/request/5VcxN4lRaTL4CMk5JGSR\">Integrate & Fire</a> (before 9/10, 23:00 MDT)"
   ]
  },
  {
   "cell_type": "markdown",
   "metadata": {},
   "source": []
  }
 ],
 "metadata": {
  "kernelspec": {
   "display_name": "Python 3",
   "language": "python",
   "name": "python3"
  },
  "language_info": {
   "codemirror_mode": {
    "name": "ipython",
    "version": 3
   },
   "file_extension": ".py",
   "mimetype": "text/x-python",
   "name": "python",
   "nbconvert_exporter": "python",
   "pygments_lexer": "ipython3",
   "version": "3.7.6"
  }
 },
 "nbformat": 4,
 "nbformat_minor": 4
}
