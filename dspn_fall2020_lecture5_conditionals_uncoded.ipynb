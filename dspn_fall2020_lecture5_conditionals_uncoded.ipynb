{
 "cells": [
  {
   "cell_type": "markdown",
   "metadata": {},
   "source": [
    "# Data Science in Psychology & Neuroscience (DSPN): \n",
    "\n",
    "## Lecture 5. Conditionals\n",
    "\n",
    "### Date: September 1, 2020\n",
    "\n",
    "### To-Dos From Last Class:\n",
    "\n",
    "* Submit Assignment #1: <a href=\"https://www.dropbox.com/request/VNNoOUDkK7Vpw4N6l1wv\">Oscillator</a> (before 9/1, 23:00 MDT)\n",
    "\n",
    "### Today:\n",
    "\n",
    "* if\n",
    "* elif\n",
    "* else\n",
    "* Multiple criteria (Boolean operators)\n",
    "* Conditionals+iterations\n",
    "\n",
    "### Homework\n",
    "\n",
    "* Read short primer on the \"integrate and fire\" neuron\n",
    "* Download Assignment #2 starter kit from <a href=\"https://github.com/hogeveen-lab/DSPN_Fall2020_git\">github</a>"
   ]
  },
  {
   "cell_type": "code",
   "execution_count": null,
   "metadata": {},
   "outputs": [],
   "source": []
  }
 ],
 "metadata": {
  "kernelspec": {
   "display_name": "Python 3",
   "language": "python",
   "name": "python3"
  },
  "language_info": {
   "codemirror_mode": {
    "name": "ipython",
    "version": 3
   },
   "file_extension": ".py",
   "mimetype": "text/x-python",
   "name": "python",
   "nbconvert_exporter": "python",
   "pygments_lexer": "ipython3",
   "version": "3.7.6"
  }
 },
 "nbformat": 4,
 "nbformat_minor": 4
}
