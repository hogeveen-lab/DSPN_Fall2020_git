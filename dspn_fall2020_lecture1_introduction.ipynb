{
 "cells": [
  {
   "cell_type": "markdown",
   "metadata": {},
   "source": [
    "# Data Science in Psychology & Neuroscience (DSPN): \n",
    "\n",
    "## Lecture 1. Introduction\n",
    "\n",
    "### Date: August 18, 2020\n"
   ]
  },
  {
   "cell_type": "markdown",
   "metadata": {},
   "source": [
    "# Syllabus Stuff\n",
    "\n",
    "## General information\n",
    "\n",
    "Credits: 3 <br>\n",
    "Semester Offering: Fall, 2020 <br>\n",
    "Class location and time: Online remote, TR 9:30 AM – 10:30 AM <br>\n",
    "Zoom link: https://unm.zoom.us/j/92108069579 <br>\n",
    "Meeting ID: 921 0806 9579 <br>\n",
    "\n",
    "## Instructor information\n",
    "\n",
    "Instructor: Dr. Jeremy Hogeveen <br>\n",
    "Email: jhogeveen@unm.edu <br>\n",
    "Office location & hours: Online remote, TR 10:30 AM – 11:00 AM <br>\n",
    "\n",
    "## Course content\n",
    "\n",
    "All of the course materials will be uploaded to this GIT repository: <br>\n",
    "\n",
    "<ul>\n",
    "    <li><a href=\"https://github.com/hogeveen-lab/DSPN_Fall2020_git\">DSPN Fall 2020 Github</a></li>\n",
    "</ul>\n",
    "\n",
    "There is no official textbook. But, here is a list of things I used for inspiration in organizing the course: <br>\n",
    "\n",
    "<ul>\n",
    "    <li><a href=\"https://uk.sagepub.com/en-gb/eur/computational-neuroscience-and-cognitive-modelling/book238062\">Computational Neuroscience & Cognitive Modeling</a></li>\n",
    "    <li><a href=\"https://cogs18.github.io\">UCSD COG Intro to Python</a></li>\n",
    "    <li><a href=\"https://datascienceinpractice.github.io/docs/index.html\">Data Science in Practice</a></li>\n",
    "    <li><a href=\"https://r4ds.had.co.nz\">Data Science in R</a></li>\n",
    "    <li><a href=\"http://math.ecnu.edu.cn/~lfzhou/seminar/%5BJoel_Grus%5D_Data_Science_from_Scratch_First_Princ.pdf\">Data Science from Scratch</a></li>\n",
    "    <li><a href=\"https://github.com/jlord/git-it-electron#what-to-install\">Git-It Github training</a></li>\n",
    "</ul>\n",
    "\n",
    "## Why are we here?\n",
    "\n",
    "1. To provide some of the scaffolding needed to develop data superpowers.\n",
    "2. To enable a soft landing for new programmers.\n",
    "3. To provide a chance to hone / advance existing skillsets.\n",
    "\n"
   ]
  },
  {
   "cell_type": "markdown",
   "metadata": {},
   "source": [
    "# Section 1: Data Science Preamble\n",
    "\n",
    "## What is Data Science?\n",
    "\n",
    "<img src=\"img/what_is_ds.png\" width=\"600\">\n",
    "\n",
    "## Why take the time to learn DS skills?\n",
    "\n",
    "Practical: Help your research computing\n",
    "<ul>\n",
    "    <li>Accelerate knowledge discovery</li>\n",
    "    <li>Improve data intuitions</li>\n",
    "    <li>Minimize human error</li>\n",
    "</ul>\n",
    "\n",
    "Pragmatic: Average salary (e.g. in ABQ)\n",
    "<ul>\n",
    "    <li>Postdoc=\\$47k</li>\n",
    "    <li>Data Scientist=\\$92k</li>\n",
    "</ul>"
   ]
  },
  {
   "cell_type": "markdown",
   "metadata": {},
   "source": [
    "# Section 2: What Specifically Will We Learn?\n",
    "\n",
    "## Software / languages\n",
    "\n",
    "Will provide exposure to four things:\n",
    "\n",
    "<ul>\n",
    "    <li>Jupyter Notebook</li>\n",
    "    <li>Python</li>\n",
    "    <li>R</li>\n",
    "    <li><i>Maybe</i> Terminal (if we have time)</li>\n",
    "</ul>\n",
    "\n",
    "Python can be a mess to install (particularly for Windows folks). <br>\n",
    "\n",
    "<img src=\"img/python_superfund.png\" width=\"350\">\n",
    "\n",
    "## Anaconda\n",
    "\n",
    "So, we will use the prepackaged distribution that comes with <a href=\"https://www.anaconda.com\">Anaconda</a>\n",
    "\n",
    "<img src=\"img/anaconda.png\" width=\"350\">\n",
    "\n",
    "\n"
   ]
  },
  {
   "cell_type": "code",
   "execution_count": null,
   "metadata": {},
   "outputs": [],
   "source": []
  }
 ],
 "metadata": {
  "kernelspec": {
   "display_name": "Python 3",
   "language": "python",
   "name": "python3"
  },
  "language_info": {
   "codemirror_mode": {
    "name": "ipython",
    "version": 3
   },
   "file_extension": ".py",
   "mimetype": "text/x-python",
   "name": "python",
   "nbconvert_exporter": "python",
   "pygments_lexer": "ipython3",
   "version": "3.7.6"
  }
 },
 "nbformat": 4,
 "nbformat_minor": 4
}
