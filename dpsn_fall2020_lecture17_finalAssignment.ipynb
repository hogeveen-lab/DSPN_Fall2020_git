{
 "cells": [
  {
   "cell_type": "markdown",
   "metadata": {},
   "source": [
    "# Data Science in Psychology & Neuroscience (DSPN): \n",
    "\n",
    "## Lecture 17. Final Assignment\n",
    "\n",
    "### Date: October 26, 2020\n",
    "\n",
    "### To-Dos From Last Class:\n",
    "\n",
    "* Download / work on Assignment #5\n",
    "    \n",
    "### Today:\n",
    "\n",
    "* Final assignment\n",
    "    * What it is\n",
    "    * Goal\n",
    "    * Suggestions\n",
    "    * \"So... what do I actually submit?\"\n",
    "    * Evaluation\n",
    "* Example project I worked on...\n",
    "\n",
    "### Homework\n",
    "\n",
    "* Download / work on Assignment #5\n",
    "    * Due 11 PM MDT on Thursday"
   ]
  },
  {
   "cell_type": "markdown",
   "metadata": {},
   "source": [
    "# Final assignment\n",
    "\n",
    "## What is the assignment?\n",
    "* Think of a data science-y thing you could not do before this course.\n",
    "    * \"What is data science again?\"\n",
    "    \n",
    "<img src=\"img/what_is_ds.png\">\n",
    "\n",
    "* Do the thing, then tell me what you did (and how you did it).\n",
    "\n",
    "## Goal\n",
    "* In research training, you frequently have to learn new skills on top of managing existing projects.\n",
    "    * Often, totally unclear whether those skills are _definitely_ going to help.\n",
    "        * E.g. ICA fMRI for me.\n",
    "    * My goal: Give you a space to tackle such a challenge with the guarantee of benefitting through course credit.\n",
    "    \n",
    "## Suggestions for content and scope:\n",
    "1. Will it benefit your future research?\n",
    "    * If unlikely, back to the drawing board.\n",
    "2. Is it feasible?\n",
    "    * If not, is there a smaller component you can take on?\n",
    "3. Is it a challenge?\n",
    "    * If not, can you expand on it to make it a challenge?\n",
    "\n",
    "## \"What do I submit?\"\n",
    "1. A presentation.\n",
    "    * ≈10 mins.\n",
    "    * Formats: Any type of visual and/or auditory recording.\n",
    "        * e.g. Narrated pptx, recorded Zoom, etc.\n",
    "2. Any supplementary materials that are relevant to understanding #1.\n",
    "    * Code, figures, etc.\n",
    "\n",
    "## How will I evaluate it\n",
    "* 80% Effort. \n",
    "    * Based on the assignments so far, I have a good idea for individual levels of data science expertise.\n",
    "    * If the assignment clearly exemplifies that you have pushed yourself to advance your training, you'll get full marks here.\n",
    "* 20% Presentation quality.\n",
    "    * Communication is a key component of a (data) scientist's toolkit.\n",
    "    * If you clearly lay out...\n",
    "        * Relevant background\n",
    "        * Specific skill you learned\n",
    "        * What / how you learned\n",
    "    * ...then you will also get full marks here."
   ]
  },
  {
   "cell_type": "markdown",
   "metadata": {},
   "source": [
    "# Example project:\n",
    "\n",
    "* Transcranial Magnetic Information:\n",
    "    * Modeling trial-by-trial motor-evoked potential amplitude as a function of surprise.\n",
    "        * Will post an asynchronous version of my talk on or before Tuesday's class."
   ]
  },
  {
   "cell_type": "code",
   "execution_count": null,
   "metadata": {},
   "outputs": [],
   "source": []
  }
 ],
 "metadata": {
  "kernelspec": {
   "display_name": "Python 3",
   "language": "python",
   "name": "python3"
  },
  "language_info": {
   "codemirror_mode": {
    "name": "ipython",
    "version": 3
   },
   "file_extension": ".py",
   "mimetype": "text/x-python",
   "name": "python",
   "nbconvert_exporter": "python",
   "pygments_lexer": "ipython3",
   "version": "3.8.3"
  }
 },
 "nbformat": 4,
 "nbformat_minor": 4
}
