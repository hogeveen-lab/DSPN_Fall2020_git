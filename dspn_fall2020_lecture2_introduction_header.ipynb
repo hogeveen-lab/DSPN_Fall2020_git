{
 "cells": [
  {
   "cell_type": "markdown",
   "metadata": {},
   "source": [
    "# Data Science in Psychology & Neuroscience (DSPN): \n",
    "\n",
    "## Lecture 2. Introduction, continued\n",
    "\n",
    "### Date: August 20, 2020\n",
    "\n",
    "### To-Dos From Last Class:\n",
    "\n",
    "* Anaconda Navigator installation\n",
    "* Github setup\n",
    "    * Basic: <a href=\"https://github.com/hogeveen-lab/DSPN_Fall2020_git\">DSPN Fall 2020 Github</a>\n",
    "        * Download Zip, extract, replace / update existing folder on your machine\n",
    "    * Advanced: <a href=\"https://github.com/hogeveen-lab/DSPN_Fall2020_git/tree/master/misc_refs/git_related\">tutorial and video of git clone on a mac</a> (thanks to Laura & Ryan)\n",
    "    * If untenable, let me know and I can share a working Dropbox folder!\n",
    "\n",
    "### Today:\n",
    "\n",
    "* Coding style and working in Jupyter\n",
    "* Create Jupyter Notebook and start programming\n",
    "* Discuss final assignment\n",
    "\n",
    "### Homework:\n",
    "\n",
    "* Enjoy life!"
   ]
  },
  {
   "cell_type": "markdown",
   "metadata": {},
   "source": [
    "# to be continued..."
   ]
  },
  {
   "cell_type": "code",
   "execution_count": null,
   "metadata": {},
   "outputs": [],
   "source": []
  }
 ],
 "metadata": {
  "kernelspec": {
   "display_name": "Python 3",
   "language": "python",
   "name": "python3"
  },
  "language_info": {
   "codemirror_mode": {
    "name": "ipython",
    "version": 3
   },
   "file_extension": ".py",
   "mimetype": "text/x-python",
   "name": "python",
   "nbconvert_exporter": "python",
   "pygments_lexer": "ipython3",
   "version": "3.7.6"
  }
 },
 "nbformat": 4,
 "nbformat_minor": 4
}
