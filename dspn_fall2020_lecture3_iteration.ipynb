{
 "cells": [
  {
   "cell_type": "markdown",
   "metadata": {},
   "source": [
    "# Data Science in Psychology & Neuroscience (DSPN): \n",
    "\n",
    "## Lecture 3. Iteration\n",
    "\n",
    "### Date: August 25, 2020\n",
    "\n",
    "### To-Dos From Last Class:\n",
    "\n",
    "* N/A\n",
    "\n",
    "### Today:\n",
    "\n",
    "* What is iteration?\n",
    "* Iteration example in an Excel spreadsheet\n",
    "* Convert into a Python code using WHILE and FOR\n",
    "\n",
    "### Homework:\n",
    "\n",
    "* Download Assignment #1 starter kit from <a href=\"https://github.com/hogeveen-lab/DSPN_Fall2020_git\">github</a>"
   ]
  },
  {
   "cell_type": "markdown",
   "metadata": {},
   "source": [
    "# Iteration\n",
    "\n",
    "## What is it?\n",
    "\n",
    "* Repetition of a behavior\n",
    "\n",
    "<img src='img/iteration.jpg' width=500>\n",
    "\n",
    "##  When is this useful?\n",
    "\n",
    "* Simple tasks that require repetition\n",
    "    * Examples in psychology & neuroscience?\n",
    "        * Repeat across subjects\n",
    "        * Repeat across different sessions\n",
    "        * Repeat across different brain regions (fMRI)\n",
    "        * Repeat across different electrodes (EEG)\n",
    "        * Repeat across epochs within a dataset"
   ]
  },
  {
   "cell_type": "markdown",
   "metadata": {},
   "source": [
    "# Simple demonstration: Count from 0 to 100 in increments of 5 and print your answer\n",
    "## Version 1, using a WHILE loop"
   ]
  },
  {
   "cell_type": "code",
   "execution_count": 7,
   "metadata": {},
   "outputs": [
    {
     "name": "stdout",
     "output_type": "stream",
     "text": [
      "the current value is: 0\n",
      "the current value is: 5\n",
      "the current value is: 10\n",
      "the current value is: 15\n",
      "the current value is: 20\n",
      "the current value is: 25\n",
      "the current value is: 30\n",
      "the current value is: 35\n",
      "the current value is: 40\n",
      "the current value is: 45\n",
      "the current value is: 50\n",
      "the current value is: 55\n",
      "the current value is: 60\n",
      "the current value is: 65\n",
      "the current value is: 70\n",
      "the current value is: 75\n",
      "the current value is: 80\n",
      "the current value is: 85\n",
      "the current value is: 90\n",
      "the current value is: 95\n"
     ]
    }
   ],
   "source": [
    "# Preamble: starting values\n",
    "value = 0\n",
    "end = 100\n",
    "increment = 5\n",
    "\n",
    "# While loop\n",
    "while value < end: # bonus, how to make it print 100?\n",
    "    print('the current value is:',value)\n",
    "    value = value + increment"
   ]
  },
  {
   "cell_type": "markdown",
   "metadata": {},
   "source": [
    "## Version 2, using a FOR loop"
   ]
  },
  {
   "cell_type": "code",
   "execution_count": 1,
   "metadata": {},
   "outputs": [
    {
     "name": "stdout",
     "output_type": "stream",
     "text": [
      "the current value is: 0\n",
      "the current value is: 5\n",
      "the current value is: 10\n",
      "the current value is: 15\n",
      "the current value is: 20\n",
      "the current value is: 25\n",
      "the current value is: 30\n",
      "the current value is: 35\n",
      "the current value is: 40\n",
      "the current value is: 45\n",
      "the current value is: 50\n",
      "the current value is: 55\n",
      "the current value is: 60\n",
      "the current value is: 65\n",
      "the current value is: 70\n",
      "the current value is: 75\n",
      "the current value is: 80\n",
      "the current value is: 85\n",
      "the current value is: 90\n",
      "the current value is: 95\n"
     ]
    }
   ],
   "source": [
    "# Preamble: starting values\n",
    "value = 0\n",
    "end = 100\n",
    "increment = 5\n",
    "\n",
    "# For loop\n",
    "for i in range(value,end,increment): # bonus, how to make it print 100?\n",
    "    print('the current value is:',i)"
   ]
  },
  {
   "cell_type": "markdown",
   "metadata": {},
   "source": [
    "## Version 3, using list comprehension\n",
    "\n",
    "__Basic syntax: [Output for i in list]__\n",
    "\n",
    "Note: would most often include a conditional at the end as well (next week...)\n"
   ]
  },
  {
   "cell_type": "code",
   "execution_count": 2,
   "metadata": {},
   "outputs": [
    {
     "name": "stdout",
     "output_type": "stream",
     "text": [
      "the list of values is: [0, 5, 10, 15, 20, 25, 30, 35, 40, 45, 50, 55, 60, 65, 70, 75, 80, 85, 90, 95]\n"
     ]
    }
   ],
   "source": [
    "# Preamble: starting values\n",
    "value = 0\n",
    "end = 100\n",
    "increment = 5\n",
    "\n",
    "# List comprehension version of iteration\n",
    "list_comprehension = [value for value in range(value,end,increment)] # make it include 100?\n",
    "print('the list of values is:',list_comprehension)"
   ]
  },
  {
   "cell_type": "markdown",
   "metadata": {},
   "source": [
    "# Example: Finding Complex Square Roots via Iteration\n",
    "\n",
    "## Problem\n",
    "\n",
    "Solve for x:\n",
    "\n",
    "$ x^2 = 4 $\n",
    "\n",
    "Can be translated to...\n",
    "\n",
    "$ x = \\sqrt{4} $\n",
    "\n",
    "$ x = 2 $\n",
    "\n",
    "Now, solve for x...\n",
    "\n",
    "$ x^2 = 28561 $\n",
    "\n",
    "<img src=\"img/jamm.gif\">\n",
    "\n",
    "\n",
    "## Newton's method\n",
    "\n",
    "Start with a guess, then revise your guess to \"find the roots\" of the y-value\n",
    "\n",
    "Formally, \n",
    "\n",
    "$ f(x) = x^2 - 28561 = 0 $\n",
    "\n",
    "and its derivative... \n",
    "\n",
    "$ f'(x) = 2x $\n",
    "\n",
    "Using fancy algebra rules, we can solve for $x$ by dividing our initial point estimate by its derivative and updating $x$ until we get the right answer (i.e., iterating over values of $x$ until $x^2 = y$...\n",
    "\n",
    "$ x_1 = x_0 - \\frac{f(x_0)}{f'(x_0)} $\n",
    "\n",
    "In English: our next best guess ($x_1$) is equal to our old guess ($x_0$), minus our original result ($f(x_0)$) divided by its derivative ($f'(x_0)$)\n",
    "\n",
    "__Let's try this in an Excel spreadsheet...__"
   ]
  },
  {
   "cell_type": "code",
   "execution_count": 23,
   "metadata": {},
   "outputs": [
    {
     "name": "stdout",
     "output_type": "stream",
     "text": [
      "iteration: 0 is equal to: 2\n",
      "iteration: 1 is equal to: 7141.25\n",
      "iteration: 2 is equal to: 3572.624719936986\n",
      "iteration: 3 is equal to: 1790.309561219525\n",
      "iteration: 4 is equal to: 903.1313341116454\n",
      "iteration: 5 is equal to: 467.37787449522784\n",
      "iteration: 6 is equal to: 264.2434430967046\n",
      "iteration: 7 is equal to: 186.16468977736452\n",
      "iteration: 8 is equal to: 169.791306277\n",
      "iteration: 9 is equal to: 169.0018439272238\n",
      "iteration: 10 is equal to: 169.00000001005927\n",
      "the final result of the while loop: 169.0\n"
     ]
    }
   ],
   "source": [
    "# Newton's method -- Python version using a \"while\" loop\n",
    "\n",
    "# Preamble -- part of the code we can mess with\n",
    "x = 2\n",
    "y = 28561\n",
    "exponent = 2\n",
    "\n",
    "# Workhorse -- part of the code that does the actual iteration solution\n",
    "iter_count = 0 # JUST USING THIS TO FIND OUT HOW LONG THE WHILE LOOP TAKES FOR NEXT CELL\n",
    "while x**exponent != y: # Continues everything below until x**2 equals y value\n",
    "    f_x = x**exponent - y # reformulate the problem as f(x) = x^2 − 4 = 0\n",
    "    f_x_derivative = exponent*x # also get the linear derivative of f(x), aka f'(x) = 2x\n",
    "    print('iteration:',iter_count,'is equal to:',x) #print out our updated x value\n",
    "    x = x - (f_x / f_x_derivative) # updates the x value based on extant f_x and fp_x values\n",
    "    iter_count = iter_count + 1  # JUST USING THIS TO FIND OUT HOW LONG THE WHILE LOOP TAKES FOR NEXT CELL\n",
    "    \n",
    "print('the final result of the while loop:',x) #print out our updated x value"
   ]
  },
  {
   "cell_type": "markdown",
   "metadata": {},
   "source": [
    "__Can also run as a FOR loop, since we tracked the # of required iterations__"
   ]
  },
  {
   "cell_type": "code",
   "execution_count": 25,
   "metadata": {},
   "outputs": [
    {
     "name": "stdout",
     "output_type": "stream",
     "text": [
      "iteration: 1 is equal to: 7141.25\n",
      "iteration: 2 is equal to: 3572.624719936986\n",
      "iteration: 3 is equal to: 1790.309561219525\n",
      "iteration: 4 is equal to: 903.1313341116454\n",
      "iteration: 5 is equal to: 467.37787449522784\n",
      "iteration: 6 is equal to: 264.2434430967046\n",
      "iteration: 7 is equal to: 186.16468977736452\n",
      "iteration: 8 is equal to: 169.791306277\n",
      "iteration: 9 is equal to: 169.0018439272238\n",
      "iteration: 10 is equal to: 169.00000001005927\n",
      "the final result of the FOR loop: 169.00000001005927\n"
     ]
    }
   ],
   "source": [
    "# Newton's method -- Python version using a \"for\" loop\n",
    "\n",
    "# Preamble -- part of the code we can mess with\n",
    "x = 2\n",
    "y = 28561\n",
    "exponent = 2\n",
    "\n",
    "# Workhorse -- part of the code that does the actual iteration solution\n",
    "for i in range(1,iter_count):\n",
    "    f_x = x**exponent - y\n",
    "    fp_x = exponent*x\n",
    "    x = x - (f_x / fp_x)\n",
    "    print('iteration:',i,'is equal to:',x)\n",
    "    \n",
    "print('the final result of the FOR loop:',x) #print out our updated x value"
   ]
  },
  {
   "cell_type": "markdown",
   "metadata": {},
   "source": [
    "# Exercise: Create an iteration that prints every item in a list, regardless of length. \n",
    "## Bonus: Randomize list order."
   ]
  },
  {
   "cell_type": "code",
   "execution_count": null,
   "metadata": {},
   "outputs": [],
   "source": [
    "# Iterating through a list\n",
    "\n",
    "# Preamble -- part of the code we can mess with\n",
    "# import random # comment for standard order\n",
    "str_list = [ 'amygdala', 'hippocampus', 'caudate', 'putamen', 'accumbens', 'thalamus', 'pallidum', 'brain-stem', 'cerebellum' ] # string list\n",
    "\n",
    "# Workhorse -- part of the code that does the actual iteration solution\n",
    "# random.shuffle(str_list) # shuffles whichever list you put in. Notice it does this \"in place\".  Comment for standard order.\n",
    "for i in range(0,len(str_list)): # looping through the, now shuffled list\n",
    "    print(str_list[i]) # printing the ith item in the list"
   ]
  },
  {
   "cell_type": "markdown",
   "metadata": {},
   "source": [
    "# Exercise: Given a range of 10 numbers, iterate from start to end number, print the sum of the current number and previous number.\n",
    "## Bonus: ask for user to input for the \"how_many\" parameter"
   ]
  },
  {
   "cell_type": "code",
   "execution_count": 47,
   "metadata": {},
   "outputs": [
    {
     "name": "stdout",
     "output_type": "stream",
     "text": [
      "Printing the sum of  0  and  1  :  1\n",
      "Printing the sum of  1  and  2  :  3\n",
      "Printing the sum of  2  and  3  :  5\n",
      "Printing the sum of  3  and  4  :  7\n",
      "Printing the sum of  4  and  5  :  9\n",
      "Printing the sum of  5  and  6  :  11\n",
      "Printing the sum of  6  and  7  :  13\n",
      "Printing the sum of  7  and  8  :  15\n",
      "Printing the sum of  8  and  9  :  17\n",
      "Printing the sum of  9  and  10  :  19\n"
     ]
    }
   ],
   "source": [
    "# preamble: part of the code you can mess with\n",
    "low = 1 # start of the range we will iterate through\n",
    "how_many = 10 # the number of numbers we are iterating through\n",
    "# how_many=int(input()) # For the fancy folks who want to make it more interactive\n",
    "\n",
    "# core: part of the code that should stay the same\n",
    "high = low+how_many # high end of the range will be the low + 10 iterations\n",
    "for i in range(low,high): # iterate i from the low to high values in the range\n",
    "    prev_num = i-1 # ca15lculating the number before the ith iteration\n",
    "    answer = i + prev_num # calculating our answer, sum of current and previous number\n",
    "    print(\"Printing the sum of \",prev_num,\" and \",i,\" : \",answer) # concatenating everything together in a printed message on each iteration\n",
    "# print(\"Printing the sum of \",prev_num,\" and \",i,\" : \",answer) # NOTE: show how important indendation is"
   ]
  },
  {
   "cell_type": "code",
   "execution_count": null,
   "metadata": {},
   "outputs": [],
   "source": []
  }
 ],
 "metadata": {
  "kernelspec": {
   "display_name": "Python 3",
   "language": "python",
   "name": "python3"
  },
  "language_info": {
   "codemirror_mode": {
    "name": "ipython",
    "version": 3
   },
   "file_extension": ".py",
   "mimetype": "text/x-python",
   "name": "python",
   "nbconvert_exporter": "python",
   "pygments_lexer": "ipython3",
   "version": "3.7.6"
  }
 },
 "nbformat": 4,
 "nbformat_minor": 4
}
