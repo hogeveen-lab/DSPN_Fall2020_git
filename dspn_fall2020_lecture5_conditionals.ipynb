{
 "cells": [
  {
   "cell_type": "markdown",
   "metadata": {},
   "source": [
    "# Data Science in Psychology & Neuroscience (DSPN): \n",
    "\n",
    "## Lecture 5. Conditionals\n",
    "\n",
    "### Date: September 1, 2020\n",
    "\n",
    "### To-Dos From Last Class:\n",
    "\n",
    "* Submit Assignment #1: <a href=\"https://www.dropbox.com/request/VNNoOUDkK7Vpw4N6l1wv\">Oscillator</a> (before 9/1, 23:00 MDT)\n",
    "\n",
    "### Today:\n",
    "\n",
    "* if\n",
    "* elif\n",
    "* else\n",
    "* Multiple criteria (Boolean operators)\n",
    "* Conditionals+iterations\n",
    "\n",
    "### Homework\n",
    "\n",
    "* Read short primer on the \"integrate and fire\" neuron\n",
    "* Download Assignment #2 starter kit from <a href=\"https://github.com/hogeveen-lab/DSPN_Fall2020_git\">github</a>\n"
   ]
  },
  {
   "cell_type": "markdown",
   "metadata": {},
   "source": [
    "# Conditionals: IF\n",
    "\n",
    "* __IF__ statements check for a condition, and only execute a set of code if the condition is _True_.\n",
    "    * What type of logic is this?\n",
    "* Boolean logic: \n",
    "    * Based on Boolean algebra, foundation of digital tech and all programming languages\n",
    "    * Boolean algebra evaluates the truth value of a given statement\n",
    "* Can use __IF__ in isolation when you want a _single_ output solution.\n",
    "    * If true, do this\n",
    "    * Otherwise, do nothing"
   ]
  },
  {
   "cell_type": "code",
   "execution_count": 13,
   "metadata": {},
   "outputs": [
    {
     "name": "stdout",
     "output_type": "stream",
     "text": [
      "This code executes if the condition evaluates as True.\n"
     ]
    }
   ],
   "source": [
    "condition = True\n",
    "\n",
    "if condition:\n",
    "    print('This code executes if the condition evaluates as True.')"
   ]
  },
  {
   "cell_type": "code",
   "execution_count": 12,
   "metadata": {},
   "outputs": [
    {
     "name": "stdout",
     "output_type": "stream",
     "text": [
      "All trials present in df\n"
     ]
    }
   ],
   "source": [
    "participants = 64\n",
    "trials = 240\n",
    "\n",
    "df_length = 15360\n",
    "\n",
    "if (participants*trials) == df_length:\n",
    "    print('All trials present in df') # RUN BOTH AS EQUALS AND DOES NOT EQUAL"
   ]
  },
  {
   "cell_type": "code",
   "execution_count": 11,
   "metadata": {},
   "outputs": [
    {
     "name": "stdout",
     "output_type": "stream",
     "text": [
      "the marriage will last!\n"
     ]
    }
   ],
   "source": [
    "favorite_tv = ['the_wire','breaking_bad','community']\n",
    "wifes_favorite = 'community'\n",
    "\n",
    "if wifes_favorite in favorite_tv:\n",
    "    print('the marriage will last!')"
   ]
  },
  {
   "cell_type": "markdown",
   "metadata": {},
   "source": [
    "# Conditionals: ELSE\n",
    "\n",
    "* __ELSE__ statements always appear after an __IF__, and explicitly define an alternative action plan. \n",
    "* A simple __IF then ELSE__ sequence is useful if you are looking for a solution with _two_ possible outputs."
   ]
  },
  {
   "cell_type": "code",
   "execution_count": 10,
   "metadata": {},
   "outputs": [
    {
     "name": "stdout",
     "output_type": "stream",
     "text": [
      "This code executes if the condition evaluates as False.\n"
     ]
    }
   ],
   "source": [
    "condition = False\n",
    "\n",
    "if condition:\n",
    "    print('This code executes if the condition evaluates as True.')\n",
    "else:\n",
    "    print('This code executes if the condition evaluates as False.')\n",
    "    "
   ]
  },
  {
   "cell_type": "code",
   "execution_count": 9,
   "metadata": {},
   "outputs": [
    {
     "name": "stdout",
     "output_type": "stream",
     "text": [
      "you are missing some trials\n"
     ]
    }
   ],
   "source": [
    "participants = 64\n",
    "trials = 240\n",
    "df_length = 15320\n",
    "\n",
    "if (participants*trials) == df_length:\n",
    "    print('all trials present in df')\n",
    "else:\n",
    "    print('you are missing some trials')\n",
    "    "
   ]
  },
  {
   "cell_type": "code",
   "execution_count": 8,
   "metadata": {},
   "outputs": [
    {
     "name": "stdout",
     "output_type": "stream",
     "text": [
      "the marriage is doomed!\n"
     ]
    }
   ],
   "source": [
    "favorite_tv = ['the_wire','breaking_bad','community']\n",
    "wifes_favorite = 'the_office'\n",
    "\n",
    "if wifes_favorite in favorite_tv:\n",
    "    print('the marriage will last!')\n",
    "else:\n",
    "    print('the marriage is doomed!')"
   ]
  },
  {
   "cell_type": "markdown",
   "metadata": {},
   "source": [
    "# Conditionals: ELIF\n",
    "\n",
    "* When the solution requires >2 possible outputs, any number of __ELIF__ (aka __ELSEIF__ in MATLAB, __ELSE IF__ in R) statements can be chained together _after_ an __IF__.\n",
    "* A subsequent __ELSE__ is not required, but if you leave it out then the code will return nothing if both __IF__ and __ELIF__ are not _True_.\n",
    "* __ELIF__ after __ELSE__ does not make sense.\n"
   ]
  },
  {
   "cell_type": "code",
   "execution_count": 7,
   "metadata": {},
   "outputs": [
    {
     "name": "stdout",
     "output_type": "stream",
     "text": [
      "the marriage has a chance!\n"
     ]
    }
   ],
   "source": [
    "favorite_tv = ['the_wire','breaking_bad','community']\n",
    "pretty_enjoyable = ['the_office','daily_show','top_chef']\n",
    "wifes_favorite = 'the_office'\n",
    "\n",
    "if wifes_favorite in favorite_tv:\n",
    "    print('the marriage will last!')\n",
    "elif wifes_favorite in pretty_enjoyable:\n",
    "    print('the marriage has a chance!')\n",
    "else:\n",
    "    print('the marriage is doomed!')"
   ]
  },
  {
   "cell_type": "code",
   "execution_count": 6,
   "metadata": {},
   "outputs": [
    {
     "name": "stdout",
     "output_type": "stream",
     "text": [
      "you have repeated trials\n"
     ]
    }
   ],
   "source": [
    "participants = 64\n",
    "trials = 240\n",
    "df_length = 15420\n",
    "\n",
    "if (participants*trials) == df_length:\n",
    "    print('all trials present in df')\n",
    "elif (participants*trials) > df_length:\n",
    "    print('you are missing some trials')\n",
    "elif (participants*trials) < df_length:\n",
    "    print('you have repeated trials')"
   ]
  },
  {
   "cell_type": "markdown",
   "metadata": {},
   "source": [
    "# Multiple criteria to be satisfied (add Boolean operators)\n",
    "\n",
    "* When using these, think how you use Google search \n",
    "    * \"Portobello burger\" AND \"soy sauce\"\n",
    "    * \"Portobello burger\" OR \"seitan burger\"\n",
    "    * \"Portoboello burger\" NOT \"balsamic vinegar\"\n",
    "* __AND__ can be used when multiple criteria must be satisfied to return a given output."
   ]
  },
  {
   "cell_type": "code",
   "execution_count": 5,
   "metadata": {},
   "outputs": [
    {
     "name": "stdout",
     "output_type": "stream",
     "text": [
      "A early\n"
     ]
    }
   ],
   "source": [
    "stim_a = 1\n",
    "stim_b = 2\n",
    "trial_num = 2\n",
    "\n",
    "response = 1\n",
    "\n",
    "if response == stim_a and trial_num < 3:\n",
    "    print('A early')\n",
    "elif response == stim_b and trial_num < 3:\n",
    "    print('B early')\n",
    "else:\n",
    "    print('late trial')"
   ]
  },
  {
   "cell_type": "markdown",
   "metadata": {},
   "source": [
    "* __OR__ can be used when any of the listed criteria can be satisfied to return a given output."
   ]
  },
  {
   "cell_type": "code",
   "execution_count": 3,
   "metadata": {},
   "outputs": [
    {
     "name": "stdout",
     "output_type": "stream",
     "text": [
      "remove trial from analysis\n"
     ]
    }
   ],
   "source": [
    "no_resp = 999\n",
    "wrong_resp = 0\n",
    "\n",
    "curr_trial = 999\n",
    "\n",
    "if curr_trial == no_resp or curr_trial == wrong_resp:\n",
    "    print('remove trial from analysis')\n",
    "else:\n",
    "    print('keep trial in analysis')"
   ]
  },
  {
   "cell_type": "markdown",
   "metadata": {},
   "source": [
    "# Conditional expressions within a FOR loop\n",
    "\n",
    "* Sometimes, you might want to iterate over something and make decisions as you go\n",
    "\n",
    "__E.g.: create two random 10-number integer arrays from 0-100. For each pair of integers, if they are both over or under 50 return the number 1, otherwise return 0__"
   ]
  },
  {
   "cell_type": "code",
   "execution_count": 1,
   "metadata": {},
   "outputs": [
    {
     "name": "stdout",
     "output_type": "stream",
     "text": [
      "0 1 3 4 5 7 8 \n",
      "\n"
     ]
    }
   ],
   "source": [
    "for i in range(10):\n",
    "    if (i == 2 or i==6 or i ==9):\n",
    "        continue\n",
    "    print(i,end=' ')\n",
    "print(\"\\n\")"
   ]
  },
  {
   "cell_type": "code",
   "execution_count": 2,
   "metadata": {},
   "outputs": [
    {
     "name": "stdout",
     "output_type": "stream",
     "text": [
      "[74 27  8 95  6 46 61 50 75 76]\n",
      "[ 7 88  0 84 71 21 80  7  8 69]\n",
      "[0 0 1 1 0 1 1 0 0 1]\n"
     ]
    }
   ],
   "source": [
    "# Preamble -- part of the code we can mess with.\n",
    "# Packages\n",
    "import numpy as np\n",
    "\n",
    "array_1 = np.random.randint(0,100,size=10)\n",
    "array_2 = np.random.randint(0,100,size=10)\n",
    "result_array = np.array([])\n",
    "threshold=50\n",
    "\n",
    "# Iterating over size=N integers and\n",
    "for i in range(0,len(array_1)):\n",
    "    # If both even then...\n",
    "    if array_1[i] > threshold and array_2[i] > threshold:\n",
    "        # add match to our new array\n",
    "        result=1\n",
    "        result_array = np.append(result_array, result)\n",
    "    # If both odd then...\n",
    "    elif array_1[i] < threshold and array_2[i] < threshold:\n",
    "        # add match to our new array\n",
    "        result=1\n",
    "        result_array = np.append(result_array, result)\n",
    "    # otherwise...\n",
    "    else:\n",
    "        # add nonmatch to our new array\n",
    "        result=0\n",
    "        result_array = np.append(result_array, result)\n",
    "\n",
    "# Checking our work\n",
    "print(array_1)\n",
    "print(array_2)\n",
    "print(result_array.astype(int))"
   ]
  },
  {
   "cell_type": "code",
   "execution_count": null,
   "metadata": {},
   "outputs": [],
   "source": []
  }
 ],
 "metadata": {
  "kernelspec": {
   "display_name": "Python 3",
   "language": "python",
   "name": "python3"
  },
  "language_info": {
   "codemirror_mode": {
    "name": "ipython",
    "version": 3
   },
   "file_extension": ".py",
   "mimetype": "text/x-python",
   "name": "python",
   "nbconvert_exporter": "python",
   "pygments_lexer": "ipython3",
   "version": "3.7.6"
  }
 },
 "nbformat": 4,
 "nbformat_minor": 4
}
