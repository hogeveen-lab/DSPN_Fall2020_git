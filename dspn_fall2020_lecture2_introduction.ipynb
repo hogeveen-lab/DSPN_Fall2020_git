{
 "cells": [
  {
   "cell_type": "markdown",
   "metadata": {},
   "source": [
    "# Data Science in Psychology & Neuroscience (DSPN): \n",
    "\n",
    "## Lecture 2. Introduction, continued\n",
    "\n",
    "### Date: August 20, 2020\n",
    "\n",
    "### To-Dos From Last Class:\n",
    "\n",
    "* Anaconda Navigator installation\n",
    "* Github setup\n",
    "    * Basic: <a href=\"https://github.com/hogeveen-lab/DSPN_Fall2020_git\">DSPN Fall 2020 Github</a>\n",
    "        * Download Zip, extract, replace / update existing folder on your machine\n",
    "    * Advanced: <a href=\"https://github.com/hogeveen-lab/DSPN_Fall2020_git/tree/master/misc_refs/git_related\">tutorial and video of git clone on a mac</a> (thanks to Laura & Ryan)\n",
    "    * If untenable, let me know and I can share a working Dropbox folder!\n",
    "\n",
    "\n",
    "\n",
    "### Today:\n",
    "\n",
    "* Coding style and working in Jupyter\n",
    "* Create Jupyter Notebook and start programming\n",
    "* Discuss final assignment\n",
    "\n",
    "### Homework:\n",
    "\n",
    "* Enjoy life!\n"
   ]
  },
  {
   "cell_type": "markdown",
   "metadata": {},
   "source": [
    "# Note on pacing:\n",
    "\n",
    "| Hamilton would be a bad Data Scientist | Burr would be a good Data Scientist |\n",
    "| :---: | :---: |\n",
    "| <img src=\"img/hamilton/exhibits_no_restraint.gif\" width=\"367\"> | <img src=\"img/hamilton/wait_for_it.gif\" width=\"220\"> |"
   ]
  },
  {
   "cell_type": "markdown",
   "metadata": {},
   "source": [
    "# Coding Style\n",
    "\n",
    "## What is it?\n",
    "* How YOUR code looks\n",
    "    * Analogous to formatting preferences in Word docs\n",
    "    * Differs person-to-person\n",
    "* Things to consider\n",
    "    * Comments\n",
    "        * Be succinct, but too much often better than not enough\n",
    "    * Indentation\n",
    "        * Tabs or spaces? If spaces, how many?\n",
    "    * Code organization\n",
    "        * Is there enough white space? Does the sequence make sense?\n",
    "    * Naming variables and functions\n",
    "        * camelCase vs. under_scores? \n",
    "        * Common logic for id'ing variables, data frames, plots, and models\n",
    "    * Consistency is key\n",
    "* Overarching principle: Code should be written to minimize the time it would take for someone else to understand it.\n",
    "\n",
    "<img src=\"img/readable_code.png\">"
   ]
  },
  {
   "cell_type": "markdown",
   "metadata": {},
   "source": [
    "## Cells\n",
    "\n",
    "__Sections of code__\n",
    "* Analogous to paragraphs or paper sections\n",
    "* Used in MATLAB <%%>, Python <#%%>, and RMarkDown <```>\n",
    "\n",
    "## Jupyter Cells\n",
    "\n",
    "* Markdown (what this is)\n",
    "    * A _way_ to __specify__ all ___formatting___ within the text itself\n",
    "* Code (cell where you run actual Python code)\n",
    "\n",
    "## Markdown Formatting Tips\n",
    "\n",
    "## Header levels...\n",
    "### ...are...\n",
    "#### ...specified...\n",
    "##### ...using...\n",
    "###### ...pound signs.\n",
    "\n",
    "* Can do bulleted lists using asterisks:\n",
    "    * tabbing to indent subsequent levels\n",
    "        * as many times as you need\n",
    "* back to level one\n",
    "\n",
    "1. Can also do numbered lists \n",
    "2. Number, period, space then your entry\n",
    "    1. Designate subpoints by tabbing + restarting enumeration\n",
    "3. Continue original list\n",
    "\n",
    "Here is a <a href=\"https://medium.com/ibm-data-science-experience/markdown-for-jupyter-notebooks-cheatsheet-386c05aeebed\">cheatsheet</a> with a bunch of other Markdown formatting stuff.\n",
    "\n",
    "## Web browser\n",
    "* Jupyter coding happens in a web browser\n",
    "    * But, it is not on the web\n",
    "* Exporting and sharing jupyter notebooks\n",
    "    * Export to HTML or PDF if you have LaTeX installed\n",
    "    * Push to Github and work on shared code base across lab\n",
    "    \n",
    "## Writing Python code in Jupyter\n",
    "\n",
    "* Python is an '__object-oriented__' programming language\n",
    "    * Nearly everything you create, update, and output in Python is going to be some kind of __object__\n",
    "* Python objects can be __variables__"
   ]
  },
  {
   "cell_type": "code",
   "execution_count": 39,
   "metadata": {},
   "outputs": [
    {
     "name": "stdout",
     "output_type": "stream",
     "text": [
      "your first variable equals: 6\n"
     ]
    }
   ],
   "source": [
    "variable = 6\n",
    "print('your first variable equals:' ,variable)"
   ]
  },
  {
   "cell_type": "markdown",
   "metadata": {},
   "source": [
    "* Variables are most often __integers__, __floats__, or __strings__"
   ]
  },
  {
   "cell_type": "code",
   "execution_count": 40,
   "metadata": {},
   "outputs": [
    {
     "name": "stdout",
     "output_type": "stream",
     "text": [
      "pi is equal to: 3.141592653589793 which is approximately 3\n"
     ]
    }
   ],
   "source": [
    "floating_point_number = 3.141592653589793238\n",
    "integer = 3\n",
    "string = 'pi'\n",
    "print(string,'is equal to:',floating_point_number,'which is approximately', integer)"
   ]
  },
  {
   "cell_type": "markdown",
   "metadata": {},
   "source": [
    "* Multiple variables can be assigned at once in Python"
   ]
  },
  {
   "cell_type": "code",
   "execution_count": 70,
   "metadata": {},
   "outputs": [
    {
     "name": "stdout",
     "output_type": "stream",
     "text": [
      "3.141592653589793\n",
      "3\n",
      "pi\n"
     ]
    }
   ],
   "source": [
    "multi, variable, line = floating_point_number, integer, string\n",
    "print(multi)\n",
    "print(variable)\n",
    "print(line)"
   ]
  },
  {
   "cell_type": "markdown",
   "metadata": {},
   "source": [
    "* __Mathematical operators__ can be applied to numerical variables\n",
    "    * Order of operations follows __B() E** D/ M* A+ S-__"
   ]
  },
  {
   "cell_type": "code",
   "execution_count": 41,
   "metadata": {},
   "outputs": [
    {
     "name": "stdout",
     "output_type": "stream",
     "text": [
      "your first mathematical solution is: 2.1333333333333333\n"
     ]
    }
   ],
   "source": [
    "variable_2 = 14\n",
    "math_answer = (variable_2-variable)**2 / 30\n",
    "print('your first mathematical solution is:', math_answer)"
   ]
  },
  {
   "cell_type": "markdown",
   "metadata": {},
   "source": [
    "* Division is a bit weird... \n",
    "    * if you want the closest # and it's remainder you can do."
   ]
  },
  {
   "cell_type": "code",
   "execution_count": 42,
   "metadata": {},
   "outputs": [
    {
     "name": "stdout",
     "output_type": "stream",
     "text": [
      "the answer is 2 remainder 4\n"
     ]
    }
   ],
   "source": [
    "math_answer_2 = (variable_2-variable)**2 // 30 # // to get a rounded integer of the solution\n",
    "remainder = (variable_2-variable)**2 % 30 # % to get the remainder\n",
    "print('the answer is',math_answer_2,'remainder',remainder)"
   ]
  },
  {
   "cell_type": "markdown",
   "metadata": {},
   "source": [
    "* Python objects might also be __collections__ (e.g. data frames and lists)"
   ]
  },
  {
   "cell_type": "code",
   "execution_count": 56,
   "metadata": {},
   "outputs": [
    {
     "name": "stdout",
     "output_type": "stream",
     "text": [
      "here is your first list : [-96, -66, -87, 86, -88, -25, 24, 59, -99, 59]\n"
     ]
    }
   ],
   "source": [
    "list_1 = [-96,-66,-87,86,-88,-25,24,59,-99,59]\n",
    "print('here is your first list :',list_1)"
   ]
  },
  {
   "cell_type": "markdown",
   "metadata": {},
   "source": [
    "* Python objects might also be __plots__\n",
    "    * Won't get into this yet..."
   ]
  },
  {
   "cell_type": "markdown",
   "metadata": {},
   "source": [
    "### Write a code that prints \"Hello World!\""
   ]
  },
  {
   "cell_type": "code",
   "execution_count": 74,
   "metadata": {},
   "outputs": [
    {
     "name": "stdout",
     "output_type": "stream",
     "text": [
      "boring: Hello World! by typing it out\n",
      "fancier: Hello World! by concatenating strings :)\n"
     ]
    }
   ],
   "source": [
    "# boring version -- note: THIS IS A COMMENT. YOU CAN COMMENT OUT ANY LINES BY HIGHLIGHTING AND DOING COMMAND/CTRL+/\n",
    "print('boring: Hello World! by typing it out')\n",
    "\n",
    "# fancier version\n",
    "firstword='Hello'\n",
    "secondword='World!'\n",
    "print('fancier:',firstword,secondword,'by concatenating strings :)')"
   ]
  },
  {
   "cell_type": "markdown",
   "metadata": {},
   "source": [
    "### Packages, sub-packages, and modules\n",
    "\n",
    "* A ton of __packages__ have been developed\n",
    "    * Some of them general purpose (e.g. Numpy, Pandas)\n",
    "    * Some of them psych / neuro specific (e.g. psychopy, pygaze, MNE, Nipype, Brian, SPySort, etc etc etc)\n",
    "* Those packages contain \"sub-packages\" which do a set of related things\n",
    "* There are then individual \"modules\" or \"functions\" that do the stuff we want to do in Python\n",
    "\n",
    "<img src=\"img/package_module.png\" width=\"450\">\n",
    "\n",
    "### E.g. use numpy to generate random list of integers between 0 and 100"
   ]
  },
  {
   "cell_type": "code",
   "execution_count": 83,
   "metadata": {},
   "outputs": [
    {
     "name": "stdout",
     "output_type": "stream",
     "text": [
      "Random integer list: [56 81 55 53 80 62 65 97 25 71]\n"
     ]
    }
   ],
   "source": [
    "import numpy # numpy is a package\n",
    "# import numpy as np\n",
    "# from numpy import random as nprd # random is a sub-package within numpy\n",
    "\n",
    "list_1 = numpy.random.randint(0,100,size=10) # randint is a specific module for generating random lists of integers\n",
    "# list_1 = np.random.randint(0,100,size=10)\n",
    "# list_1 = nprd.randint(0,100,size=10)\n",
    "\n",
    "print(\"Random integer list: \" + str(list_1))"
   ]
  },
  {
   "cell_type": "markdown",
   "metadata": {},
   "source": [
    "__If you forget how to use a subpackage or module...__\n",
    "\n",
    "<img src=\"img/m_baxter.png\" width=400>\n",
    "\n",
    "__Or...__"
   ]
  },
  {
   "cell_type": "code",
   "execution_count": 82,
   "metadata": {},
   "outputs": [
    {
     "data": {
      "text/plain": [
       "\u001b[0;31mDocstring:\u001b[0m\n",
       "randint(low, high=None, size=None, dtype='l')\n",
       "\n",
       "Return random integers from `low` (inclusive) to `high` (exclusive).\n",
       "\n",
       "Return random integers from the \"discrete uniform\" distribution of\n",
       "the specified dtype in the \"half-open\" interval [`low`, `high`). If\n",
       "`high` is None (the default), then results are from [0, `low`).\n",
       "\n",
       ".. note::\n",
       "    New code should use the ``integers`` method of a ``default_rng()``\n",
       "    instance instead; see `random-quick-start`.\n",
       "\n",
       "Parameters\n",
       "----------\n",
       "low : int or array-like of ints\n",
       "    Lowest (signed) integers to be drawn from the distribution (unless\n",
       "    ``high=None``, in which case this parameter is one above the\n",
       "    *highest* such integer).\n",
       "high : int or array-like of ints, optional\n",
       "    If provided, one above the largest (signed) integer to be drawn\n",
       "    from the distribution (see above for behavior if ``high=None``).\n",
       "    If array-like, must contain integer values\n",
       "size : int or tuple of ints, optional\n",
       "    Output shape.  If the given shape is, e.g., ``(m, n, k)``, then\n",
       "    ``m * n * k`` samples are drawn.  Default is None, in which case a\n",
       "    single value is returned.\n",
       "dtype : dtype, optional\n",
       "    Desired dtype of the result. All dtypes are determined by their\n",
       "    name, i.e., 'int64', 'int', etc, so byteorder is not available\n",
       "    and a specific precision may have different C types depending\n",
       "    on the platform. The default value is `np.int_`.\n",
       "\n",
       "    .. versionadded:: 1.11.0\n",
       "\n",
       "Returns\n",
       "-------\n",
       "out : int or ndarray of ints\n",
       "    `size`-shaped array of random integers from the appropriate\n",
       "    distribution, or a single such random int if `size` not provided.\n",
       "\n",
       "See Also\n",
       "--------\n",
       "random_integers : similar to `randint`, only for the closed\n",
       "    interval [`low`, `high`], and 1 is the lowest value if `high` is\n",
       "    omitted.\n",
       "Generator.integers: which should be used for new code.\n",
       "\n",
       "Examples\n",
       "--------\n",
       ">>> np.random.randint(2, size=10)\n",
       "array([1, 0, 0, 0, 1, 1, 0, 0, 1, 0]) # random\n",
       ">>> np.random.randint(1, size=10)\n",
       "array([0, 0, 0, 0, 0, 0, 0, 0, 0, 0])\n",
       "\n",
       "Generate a 2 x 4 array of ints between 0 and 4, inclusive:\n",
       "\n",
       ">>> np.random.randint(5, size=(2, 4))\n",
       "array([[4, 0, 2, 1], # random\n",
       "       [3, 2, 2, 0]])\n",
       "\n",
       "Generate a 1 x 3 array with 3 different upper bounds\n",
       "\n",
       ">>> np.random.randint(1, [3, 5, 10])\n",
       "array([2, 2, 9]) # random\n",
       "\n",
       "Generate a 1 by 3 array with 3 different lower bounds\n",
       "\n",
       ">>> np.random.randint([1, 5, 7], 10)\n",
       "array([9, 8, 7]) # random\n",
       "\n",
       "Generate a 2 by 4 array using broadcasting with dtype of uint8\n",
       "\n",
       ">>> np.random.randint([1, 3, 5, 7], [[10], [20]], dtype=np.uint8)\n",
       "array([[ 8,  6,  9,  7], # random\n",
       "       [ 1, 16,  9, 12]], dtype=uint8)\n",
       "\u001b[0;31mType:\u001b[0m      builtin_function_or_method\n"
      ]
     },
     "metadata": {},
     "output_type": "display_data"
    }
   ],
   "source": [
    "# numpy.random?\n",
    "\n",
    "# numpy.random.randint?"
   ]
  },
  {
   "cell_type": "markdown",
   "metadata": {},
   "source": [
    "# Final assignment\n",
    "\n",
    "__What is the final assignment?__\n",
    "* 10-15 minute presentation (pre-recorded)\n",
    "* Any associated code / documentation\n",
    "\n",
    "__What will you do for your assignment?__\n",
    "* Learn a new thing, implement it, and show me what you did\n",
    "    * New thing can, but doesn't have to, be related to your graduate research\n",
    "    * New thing must be in some way related to data science\n",
    "* Examples\n",
    "    * Learn how to implement the math underlying a computational model\n",
    "    * Test out a novel (to you) way of modeling an existing dataset\n",
    "    * Automate (part of) an existing analysis routine\n",
    "\n",
    "__How to get a good grade?__\n",
    "* Like everything, 80% devoted to effort\n",
    "* To earn the final 20%, make it clear you pushed yourself and learned something new\n",
    "\n",
    "__Why?__\n",
    "* I want you to feel empowered to learn new quantitative and computational skills\n",
    "\n",
    "__If this is how you feel partway through...__\n",
    "\n",
    "<img src=\"img/seth_idiot.gif\">\n",
    "\n",
    "__...then you are on the right path to...__\n",
    "\n",
    "<img src=\"img/trevor.gif\">\n",
    "\n"
   ]
  },
  {
   "cell_type": "code",
   "execution_count": null,
   "metadata": {},
   "outputs": [],
   "source": []
  }
 ],
 "metadata": {
  "kernelspec": {
   "display_name": "Python 3",
   "language": "python",
   "name": "python3"
  },
  "language_info": {
   "codemirror_mode": {
    "name": "ipython",
    "version": 3
   },
   "file_extension": ".py",
   "mimetype": "text/x-python",
   "name": "python",
   "nbconvert_exporter": "python",
   "pygments_lexer": "ipython3",
   "version": "3.7.6"
  }
 },
 "nbformat": 4,
 "nbformat_minor": 4
}
