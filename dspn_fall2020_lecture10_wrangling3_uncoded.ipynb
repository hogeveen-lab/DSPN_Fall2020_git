{
 "cells": [
  {
   "cell_type": "markdown",
   "metadata": {},
   "source": [
    "# Data Science in Psychology & Neuroscience (DSPN): \n",
    "\n",
    "## Lecture 10. Data Wrangling (part 3)\n",
    "\n",
    "### Date: September 24, 2020\n",
    "\n",
    "### To-Dos From Last Class:\n",
    "\n",
    "* Download Assignment #3 start kit data\n",
    "    * Just one difficulty-level... Sorry!\n",
    "    \n",
    "### Today:\n",
    "\n",
    "* Wrangle imitation inhibition task data\n",
    "    * Iterate through to load the first level data\n",
    "    * Concatenate all together to create one data frame to rule them all\n",
    "    * Merge with questionnaire data\n",
    "    * Write to trial-level allsubjects csv\n",
    "    * Compute summary measures\n",
    "    * Save to summary allsubjects csv\n",
    "* Introduce Assignment #3\n",
    "\n",
    "### Homework\n",
    "\n",
    "* Assignment #3\n",
    "    * Now due on 10/1"
   ]
  },
  {
   "cell_type": "code",
   "execution_count": null,
   "metadata": {},
   "outputs": [],
   "source": []
  }
 ],
 "metadata": {
  "kernelspec": {
   "display_name": "Python 3",
   "language": "python",
   "name": "python3"
  },
  "language_info": {
   "codemirror_mode": {
    "name": "ipython",
    "version": 3
   },
   "file_extension": ".py",
   "mimetype": "text/x-python",
   "name": "python",
   "nbconvert_exporter": "python",
   "pygments_lexer": "ipython3",
   "version": "3.7.6"
  }
 },
 "nbformat": 4,
 "nbformat_minor": 4
}
