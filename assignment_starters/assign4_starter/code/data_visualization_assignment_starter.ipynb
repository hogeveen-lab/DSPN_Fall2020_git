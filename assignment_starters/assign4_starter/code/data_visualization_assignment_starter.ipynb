{
 "cells": [
  {
   "cell_type": "markdown",
   "metadata": {},
   "source": [
    "# Preamble. MRIQC output visualization\n",
    "\n",
    "## Full details\n",
    "\n",
    "* MRIQC is a standardized MRI image quality assessment tool\n",
    "    * <a href=\"https://mriqc.readthedocs.io/en/latest/about.html\">Documentation</a>\n",
    "    * <a href=\"https://journals.plos.org/plosone/article?id=10.1371/journal.pone.0184661\">Paper</a>\n",
    "\n",
    "## Group-Level Reports\n",
    "\n",
    "<img src='img/mriqc_report.png' width='400'>"
   ]
  },
  {
   "cell_type": "markdown",
   "metadata": {},
   "source": [
    "## Critical Image Quality Metrics (IQMs) for BOLD act & conn analyses:\n",
    "\n",
    "* Temporal signal-to-noise ratio (tSNR):\n",
    "    * $tSNR$ $=$ $\\frac{\\langle S \\rangle_t}{\\sigma_t}$\n",
    "    * Ratio of the mean BOLD signal (across time) and temporal standard deviation.\n",
    "    * Higher numbers = Better.\n",
    "* Framewise Displacement (FD):\n",
    "    * $FD_𝑡$ $=$ $|\\Delta d_x,t|$ + $|\\Delta d_y,t|$ + $|\\Delta d_z,t|$ + $|\\Delta \\alpha_t|$ + $|\\Delta \\beta_t|$ + $|\\Delta \\gamma_t|$ \n",
    "    * Instantaneous head motion.\n",
    "    * Higher numbers = Worse.    \n",
    "* Effect of low tSNR and high FD:\n",
    "    * Harder to detect task activations.\n",
    "    * Introduce spurious changes in functional connectivity.\n",
    "\n",
    "## Assignment 4: \n",
    "\n",
    "1. Read in an MRIQC group report.\n",
    "    * Already completed this step in the starter code. \n",
    "    * Dataset contains 4 task fMRI runs and 1 resting-state fMRI run / subject.\n",
    "2. Make a scatterbox plot of tSNR.\n",
    "3. Group the tSNR scatterbox to see if motion varies as a function of...\n",
    "    1. Task (resting-state vs. task fMRI runs)\n",
    "    2. Timing (early vs. later fMRI runs)\n",
    "4. Plot the relationship between tSNR and mean FD, grouped by task.\n",
    "5. Reproduce #4 with pid labels.\n",
    "    1. Which 2 participants probably have terrible resting-state data?"
   ]
  },
  {
   "cell_type": "markdown",
   "metadata": {},
   "source": [
    "## Code chunk for item #1:\n",
    "* Load tidyverse\n",
    "* Set up some themes / palettes you can use if you want\n",
    "* Load data & mutate vars needed for assignment"
   ]
  },
  {
   "cell_type": "code",
   "execution_count": 2,
   "metadata": {},
   "outputs": [
    {
     "name": "stderr",
     "output_type": "stream",
     "text": [
      "── \u001b[1mAttaching packages\u001b[22m ─────────────────────────────────────── tidyverse 1.2.1 ──\n",
      "\n",
      "\u001b[32m✔\u001b[39m \u001b[34mggplot2\u001b[39m 3.3.0     \u001b[32m✔\u001b[39m \u001b[34mpurrr  \u001b[39m 0.3.4\n",
      "\u001b[32m✔\u001b[39m \u001b[34mtibble \u001b[39m 2.1.3     \u001b[32m✔\u001b[39m \u001b[34mdplyr  \u001b[39m 0.8.3\n",
      "\u001b[32m✔\u001b[39m \u001b[34mtidyr  \u001b[39m 1.0.0     \u001b[32m✔\u001b[39m \u001b[34mstringr\u001b[39m 1.3.1\n",
      "\u001b[32m✔\u001b[39m \u001b[34mreadr  \u001b[39m 1.1.1     \u001b[32m✔\u001b[39m \u001b[34mforcats\u001b[39m 0.3.0\n",
      "\n",
      "Warning message:\n",
      "“package ‘ggplot2’ was built under R version 3.5.2”\n",
      "Warning message:\n",
      "“package ‘tibble’ was built under R version 3.5.2”\n",
      "Warning message:\n",
      "“package ‘tidyr’ was built under R version 3.5.2”\n",
      "Warning message:\n",
      "“package ‘dplyr’ was built under R version 3.5.2”\n",
      "── \u001b[1mConflicts\u001b[22m ────────────────────────────────────────── tidyverse_conflicts() ──\n",
      "\u001b[31m✖\u001b[39m \u001b[34mdplyr\u001b[39m::\u001b[32mfilter()\u001b[39m masks \u001b[34mstats\u001b[39m::filter()\n",
      "\u001b[31m✖\u001b[39m \u001b[34mdplyr\u001b[39m::\u001b[32mlag()\u001b[39m    masks \u001b[34mstats\u001b[39m::lag()\n",
      "\n",
      "Parsed with column specification:\n",
      "cols(\n",
      "  .default = col_double(),\n",
      "  bids_name = col_character(),\n",
      "  dummy_trs = col_integer(),\n",
      "  fd_num = col_integer(),\n",
      "  size_t = col_integer(),\n",
      "  size_x = col_integer(),\n",
      "  size_y = col_integer(),\n",
      "  size_z = col_integer(),\n",
      "  spacing_tr = col_integer(),\n",
      "  summary_bg_n = col_integer(),\n",
      "  summary_fg_n = col_integer()\n",
      ")\n",
      "\n",
      "See spec(...) for full column specifications.\n",
      "\n"
     ]
    }
   ],
   "source": [
    "### load tidyverse\n",
    "library(tidyverse)\n",
    "\n",
    "### Custom palette & theme\n",
    "# Many palettes available online, can customize\n",
    "# these are from: https://colorbrewer2.org/#type=qualitative&scheme=Set1&n=9\n",
    "dspn_palette <- c(\"#377eb8\",\"#e41a1c\",\"#4daf4a\",\"#984ea3\",\"#ff7f00\")\n",
    "# This is the basic function I use for all the ggplots I create. \n",
    "# Modified from this black themed ggplot function: https://gist.github.com/jslefche/eff85ef06b4705e6efbc\n",
    "dspn_theme = function(base_size = 24, base_family = \"\") {\n",
    "  \n",
    "  theme_grey(base_size = base_size, base_family = base_family) %+replace%\n",
    "    \n",
    "    theme(\n",
    "      # Specify axis options\n",
    "      axis.line = element_blank(),  \n",
    "      axis.text.x = element_text(size = base_size*0.8, color = \"black\", lineheight = 0.9),  \n",
    "      axis.text.y = element_text(size = base_size*0.8, color = \"black\", lineheight = 0.9),  \n",
    "      axis.ticks = element_line(color = \"black\", size  =  0.2),\n",
    "      axis.title.x = element_text(size = base_size, color = \"black\", margin = margin(10, 0, 0, 0)),\n",
    "      axis.title.y = element_text(size = base_size, color = \"black\", angle = 90, margin = margin(0, 10, 0, 0)),  \n",
    "      axis.ticks.length = unit(0.3, \"lines\"),   \n",
    "      # Specify legend options\n",
    "      legend.background = element_rect(color = NA, fill = \"#ffffff\"),  \n",
    "      legend.key = element_rect(color = \"black\",  fill = \"#ffffff\"),  \n",
    "      legend.key.size = unit(2, \"lines\"),  \n",
    "      legend.key.height = NULL,  \n",
    "      legend.key.width = NULL,      \n",
    "      legend.text = element_text(size = base_size*0.8, color = \"black\"),  \n",
    "      legend.title = element_text(size = base_size*0.8, face = \"bold\", hjust = 0, color = \"black\"),\n",
    "      legend.position = \"right\",  \n",
    "      legend.text.align = NULL,  \n",
    "      legend.title.align = NULL,  \n",
    "      legend.direction = \"vertical\",  \n",
    "      legend.box = NULL, \n",
    "      # Specify panel options\n",
    "      panel.background = element_rect(fill = \"#ffffff\", color  =  NA),  \n",
    "      panel.border = element_rect(fill = NA, color = \"black\"),  \n",
    "      panel.grid.major = element_line(color = \"#ffffff\"),  \n",
    "      panel.grid.minor = element_line(color = \"#ffffff\"),  \n",
    "      panel.spacing = unit(2, \"lines\"),\n",
    "      # Specify facetting options\n",
    "      strip.background = element_rect(fill = \"grey30\", color = \"grey10\"),  \n",
    "      strip.text.x = element_text(size = base_size*0.8, color = \"black\"),  \n",
    "      strip.text.y = element_text(size = base_size*0.8, color = \"black\",angle = -90),  \n",
    "      # Specify plot options\n",
    "      plot.background = element_rect(color = \"#ffffff\", fill = \"#ffffff\"),  \n",
    "      plot.title = element_text(size = base_size*1.2, color = \"black\"),  \n",
    "      plot.margin = unit(rep(1, 4), \"lines\")\n",
    "    ) \n",
    "}\n",
    "\n",
    "### Loading data + mutating to create task and timing vars\n",
    "\n",
    "# loading the data\n",
    "file <- '../data/group_bold.txt'\n",
    "df <- read_tsv(file)\n",
    "\n",
    "# setting up new vars\n",
    "# Coding some new variables\n",
    "# 1. Participant ID\n",
    "# 2. Task (rest, or doing a task)\n",
    "# 3. Timing (first two runs = early, second two runs+rest = late)\n",
    "df <- df %>% \n",
    "    mutate(pid = str_sub(bids_name,1,3),\n",
    "          task = ifelse(grepl('run',bids_name),'task','rest'),\n",
    "          timing = ifelse((grepl('run-1',bids_name) | grepl('run-2',bids_name)),'early','late'))"
   ]
  },
  {
   "cell_type": "markdown",
   "metadata": {},
   "source": [
    "## Code chunk for item #2:\n",
    "* Scatterbox of tSNR"
   ]
  },
  {
   "cell_type": "code",
   "execution_count": null,
   "metadata": {},
   "outputs": [],
   "source": []
  },
  {
   "cell_type": "markdown",
   "metadata": {},
   "source": [
    "## Code chunk for item #3:\n",
    "* Grouped scatterbox of tSNR by...\n",
    "    * Task\n",
    "    * Timing"
   ]
  },
  {
   "cell_type": "code",
   "execution_count": null,
   "metadata": {},
   "outputs": [],
   "source": []
  },
  {
   "cell_type": "markdown",
   "metadata": {},
   "source": [
    "## Code chunk for item #4:\n",
    "* Plot of the association between tSNR and FD, grouped by...\n",
    "    * Task"
   ]
  },
  {
   "cell_type": "code",
   "execution_count": null,
   "metadata": {},
   "outputs": [],
   "source": []
  },
  {
   "cell_type": "markdown",
   "metadata": {},
   "source": [
    "## Code chunk for item #5:\n",
    "\n",
    "* Same plot as #4, but with participant ID labels\n",
    "    * Which two participants are likely to have sub-par resting-state data?"
   ]
  },
  {
   "cell_type": "code",
   "execution_count": null,
   "metadata": {},
   "outputs": [],
   "source": []
  }
 ],
 "metadata": {
  "kernelspec": {
   "display_name": "R",
   "language": "R",
   "name": "ir"
  },
  "language_info": {
   "codemirror_mode": "r",
   "file_extension": ".r",
   "mimetype": "text/x-r-source",
   "name": "R",
   "pygments_lexer": "r",
   "version": "3.5.0"
  }
 },
 "nbformat": 4,
 "nbformat_minor": 4
}
