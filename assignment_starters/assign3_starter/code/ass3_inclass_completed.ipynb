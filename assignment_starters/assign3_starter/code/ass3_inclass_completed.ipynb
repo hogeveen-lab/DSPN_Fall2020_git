{
 "cells": [
  {
   "cell_type": "markdown",
   "metadata": {},
   "source": [
    "# VERSION 1:\n",
    "\n",
    "* What I would've done if I were doing the assignment\n",
    "* Combination of __iterating__ through files to load them in, and then using __groupy__ to compute means\n",
    "* End result: 15 lines of readable (to me!) code"
   ]
  },
  {
   "cell_type": "code",
   "execution_count": 36,
   "metadata": {},
   "outputs": [
    {
     "name": "stdout",
     "output_type": "stream",
     "text": [
      "total trials per participant equals: 160.0\n",
      "RT TABLE:\n",
      " BlockType      0-Back       2-Back\n",
      "StimType                          \n",
      "Body       866.377540  1083.185613\n",
      "Face       766.740053   993.550256\n",
      "Place      786.328891  1019.625000\n",
      "Tools      763.776128   975.646714\n",
      "ACC TABLE:\n",
      " BlockType  0-Back  2-Back\n",
      "StimType                 \n",
      "Body       0.8860  0.7785\n",
      "Face       0.9425  0.8805\n",
      "Place      0.9380  0.8840\n",
      "Tools      0.9090  0.8520\n"
     ]
    }
   ],
   "source": [
    "import pandas as pd\n",
    "from glob import glob\n",
    "P_file_wildcard = '../data/WM*.txt'\n",
    "participant_files = glob(P_file_wildcard)\n",
    "dfs = []\n",
    "for f in participant_files:\n",
    "    tmp_df = pd.read_csv(f,sep='\\t')\n",
    "    tmp_df = tmp_df[tmp_df['Procedure[Block]'] == 'TrialsPROC']\n",
    "    dfs.append(tmp_df)\n",
    "allsubs_df = pd.concat(dfs,axis=0)\n",
    "allsubs_df['pid'] = allsubs_df.HCPID.str.extract('(\\d+)') # note the issue with 856766 HCPID var\n",
    "print('total trials per participant equals:',len(allsubs_df) / allsubs_df['pid'].nunique())\n",
    "allsubs_df_corr = allsubs_df[allsubs_df['Stim.ACC']==1]\n",
    "print('RT TABLE:\\n',allsubs_df_corr.groupby(['StimType','BlockType'])['Stim.RT'].mean().unstack())\n",
    "print('ACC TABLE:\\n',allsubs_df.groupby(['StimType','BlockType'])['Stim.ACC'].mean().unstack())"
   ]
  },
  {
   "cell_type": "markdown",
   "metadata": {},
   "source": [
    "# VERSION 2:\n",
    "\n",
    "* What I would've done if I were smarter\n",
    "* Combination of __list comprehension__ to read through files, and then using __pivot tables__ to compute means\n",
    "* End result: 10 (or fewer) lines of readable code"
   ]
  },
  {
   "cell_type": "code",
   "execution_count": 46,
   "metadata": {},
   "outputs": [
    {
     "name": "stdout",
     "output_type": "stream",
     "text": [
      "total trials per participant equals: 160.0\n",
      "              Stim.RT             \n",
      "BlockType      0-Back       2-Back\n",
      "StimType                          \n",
      "Body       866.377540  1083.185613\n",
      "Face       766.740053   993.550256\n",
      "Place      786.328891  1019.625000\n",
      "Tools      763.776128   975.646714\n",
      "          Stim.ACC        \n",
      "BlockType   0-Back  2-Back\n",
      "StimType                  \n",
      "Body        0.8860  0.7785\n",
      "Face        0.9425  0.8805\n",
      "Place       0.9380  0.8840\n",
      "Tools       0.9090  0.8520\n"
     ]
    }
   ],
   "source": [
    "import pandas as pd\n",
    "from glob import glob\n",
    "P_full_path = '../data/WM*.txt'\n",
    "dfs = []\n",
    "allsubs_df = pd.concat([pd.read_table(file,sep='\\t').append(dfs) for file in glob(P_full_path)])\n",
    "allsubs_df = allsubs_df[allsubs_df['Procedure[Block]'] == 'TrialsPROC']\n",
    "allsubs_df['pid'] = allsubs_df.HCPID.str.extract('(\\d+)') # note the issue with 856766 HCPID var\n",
    "print('total trials per participant equals:',len(allsubs_df) / allsubs_df['pid'].nunique())\n",
    "print(pd.pivot_table(allsubs_df[allsubs_df['Stim.ACC']==1],index=['StimType','BlockType'], values = 'Stim.RT', aggfunc='mean').unstack())\n",
    "print(pd.pivot_table(allsubs_df,index=['StimType','BlockType'], values = 'Stim.ACC', aggfunc='mean').unstack())"
   ]
  },
  {
   "cell_type": "code",
   "execution_count": null,
   "metadata": {},
   "outputs": [],
   "source": []
  }
 ],
 "metadata": {
  "kernelspec": {
   "display_name": "Python 3",
   "language": "python",
   "name": "python3"
  },
  "language_info": {
   "codemirror_mode": {
    "name": "ipython",
    "version": 3
   },
   "file_extension": ".py",
   "mimetype": "text/x-python",
   "name": "python",
   "nbconvert_exporter": "python",
   "pygments_lexer": "ipython3",
   "version": "3.8.3"
  }
 },
 "nbformat": 4,
 "nbformat_minor": 4
}
