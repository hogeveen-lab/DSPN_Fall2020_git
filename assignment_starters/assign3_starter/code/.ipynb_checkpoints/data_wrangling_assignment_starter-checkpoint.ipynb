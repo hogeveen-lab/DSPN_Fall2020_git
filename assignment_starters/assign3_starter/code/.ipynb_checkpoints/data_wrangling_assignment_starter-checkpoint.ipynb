{
 "cells": [
  {
   "cell_type": "markdown",
   "metadata": {},
   "source": [
    "# Preamble. Task design\n",
    "\n",
    "## Working Memory Paradigm -- Human Connectome Project\n",
    "\n",
    "* Full details here: https://protocols.humanconnectome.org/HCP/3T/task-fMRI-protocol-details.html\n",
    "\n",
    "### Conditions\n",
    "| CDN # | CDN | BlockType | StimType |\n",
    "| --- | --- | --- | --- |\n",
    "| 1 | 0-back face | 0-Back | face |\n",
    "| 2 | 0-back place | 0-Back | place |\n",
    "| 3 | 0-back tools | 0-Back | tools |\n",
    "| 4 | 0-back body | 0-Back | body |\n",
    "| 5 | 2-back face | 2-Back | face |\n",
    "| 6 | 2-back place | 2-Back | place |\n",
    "| 7 | 2-back tools | 2-Back | tools |\n",
    "| 8 | 2-back body | 2-Back | body |\n",
    "\n",
    "### Contrasts the HCP team were focused on:\n",
    "\n",
    "* Working Memory Contrasts\n",
    "    * 0-back contrast (activity combined across conditions 1-4)\n",
    "    * 2-back contrast (activity combined across conditions 5-8)\n",
    "    * 2-back versus 0-back contrast (2-back contrast minus 0-back contrast)\n",
    "* Category Contrasts\n",
    "    * Faces contrast (0-back faces plus 2-back faces)\n",
    "    * Places contrast (0-back places plus 2-back places)\n",
    "    * Tools contrast (0-back tools plus 2-back tools)\n",
    "    * Body contrast (0-back body plus 2-back body)\n",
    "\n",
    "### Assignment #3\n",
    "1. Read in these data\n",
    "2. How many total trials were there?\n",
    "3. What is the average RT for each of the eight conditions (averaged across subjects)?\n",
    "4. What is the accuracy (% or prop.) for each of the eight conditions (averaged across subjects)?\n",
    "5. BONUS: The minimum I was able to code this was 19 lines long (no spaces or comments). \n",
    "    * Code it in fewer lines and I'll give you a virtual high five!"
   ]
  },
  {
   "cell_type": "markdown",
   "metadata": {},
   "source": [
    "# Package import"
   ]
  },
  {
   "cell_type": "code",
   "execution_count": null,
   "metadata": {},
   "outputs": [],
   "source": [
    "# importing all the packages we typically use for data wrangling"
   ]
  },
  {
   "cell_type": "markdown",
   "metadata": {},
   "source": [
    "# Setting up the filepaths and filenames we want to read in"
   ]
  },
  {
   "cell_type": "code",
   "execution_count": 1,
   "metadata": {},
   "outputs": [],
   "source": [
    " # my approach: get the current directory, set the data directory relative to that current directory,\n",
    "    # then, set a filename pattern and find all files that match that pattern"
   ]
  },
  {
   "cell_type": "markdown",
   "metadata": {},
   "source": [
    "# Question 1. Reading in the data and filter to just trials."
   ]
  },
  {
   "cell_type": "code",
   "execution_count": null,
   "metadata": {},
   "outputs": [],
   "source": [
    "dfs = []\n",
    "\n",
    "for file in participant_file_list:\n",
    "    # read in the data for each subject\n",
    "    # filter down to the data we need\n",
    "    dfs.append(curdat) # create a list of data frames\n",
    "    \n",
    "# concatenate list of data frames together into a single data frame\n",
    "allsub_df = pd.concat(dfs,axis=0)"
   ]
  },
  {
   "cell_type": "markdown",
   "metadata": {},
   "source": [
    "# Question 2: Determine the number of trials per subject."
   ]
  },
  {
   "cell_type": "code",
   "execution_count": null,
   "metadata": {},
   "outputs": [],
   "source": [
    "# hint: how big is allsubs? how many participants do we have?"
   ]
  },
  {
   "cell_type": "markdown",
   "metadata": {},
   "source": [
    "# Question 3: Computing mean RT by condition."
   ]
  },
  {
   "cell_type": "code",
   "execution_count": null,
   "metadata": {},
   "outputs": [],
   "source": [
    "# hint: I had to use conditional expressions to set up a single \"conditions\" column, \n",
    "# then used this for #'s 3-4\n",
    "\n",
    "# I coded our conditions as 1 through 8, \n",
    "# and the alternative if no criteria were met would be 0. \n",
    "print(allsub_df[allsub_df['condition']==0]) # This should therefore return a blank df."
   ]
  },
  {
   "cell_type": "markdown",
   "metadata": {},
   "source": [
    "# Question 4: What is the mean prop. accuracy of the 8 conditions across subjects?"
   ]
  },
  {
   "cell_type": "code",
   "execution_count": 2,
   "metadata": {},
   "outputs": [],
   "source": [
    "# num of correct responses divided by the total # of responses by condition"
   ]
  }
 ],
 "metadata": {
  "kernelspec": {
   "display_name": "Python 3",
   "language": "python",
   "name": "python3"
  },
  "language_info": {
   "codemirror_mode": {
    "name": "ipython",
    "version": 3
   },
   "file_extension": ".py",
   "mimetype": "text/x-python",
   "name": "python",
   "nbconvert_exporter": "python",
   "pygments_lexer": "ipython3",
   "version": "3.7.6"
  }
 },
 "nbformat": 4,
 "nbformat_minor": 4
}
