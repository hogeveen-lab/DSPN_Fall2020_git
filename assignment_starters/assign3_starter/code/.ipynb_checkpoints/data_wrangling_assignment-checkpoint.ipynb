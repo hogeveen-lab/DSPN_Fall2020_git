{
 "cells": [
  {
   "cell_type": "markdown",
   "metadata": {},
   "source": [
    "# Preamble. Task design\n",
    "\n",
    "## Working Memory Paradigm -- Human Connectome Project\n",
    "\n",
    "* Full details here: https://protocols.humanconnectome.org/HCP/3T/task-fMRI-protocol-details.html\n",
    "\n",
    "### Conditions\n",
    "| CDN # | CDN | BlockType | StimType |\n",
    "| --- | --- | --- | --- |\n",
    "| 1 | 0-back face | 0-Back | face |\n",
    "| 2 | 0-back place | 0-Back | place |\n",
    "| 3 | 0-back tools | 0-Back | tools |\n",
    "| 4 | 0-back body | 0-Back | body |\n",
    "| 5 | 2-back face | 2-Back | face |\n",
    "| 6 | 2-back place | 2-Back | place |\n",
    "| 7 | 2-back tools | 2-Back | tools |\n",
    "| 8 | 2-back body | 2-Back | body |\n",
    "\n",
    "### Contrasts the HCP team were focused on:\n",
    "\n",
    "* Working Memory Contrasts\n",
    "    * 0-back contrast (activity combined across conditions 1-4)\n",
    "    * 2-back contrast (activity combined across conditions 5-8)\n",
    "    * 2-back versus 0-back contrast (2-back contrast minus 0-back contrast)\n",
    "* Category Contrasts\n",
    "    * Faces contrast (0-back faces plus 2-back faces)\n",
    "    * Places contrast (0-back places plus 2-back places)\n",
    "    * Tools contrast (0-back tools plus 2-back tools)\n",
    "    * Body contrast (0-back body plus 2-back body)\n",
    "\n",
    "### Assignment #3\n",
    "1. Read in these data\n",
    "2. How many total trials were there?\n",
    "3. What is the average RT for each of the eight conditions (averaged across subjects)?\n",
    "4. What is the accuracy (% or prop.) for each of the eight conditions (averaged across subjects)?\n",
    "5. BONUS: The minimum I was able to code this was 19 lines long (no spaces or comments). \n",
    "    * Code it in fewer lines and I'll give you a virtual high five!"
   ]
  },
  {
   "cell_type": "markdown",
   "metadata": {},
   "source": [
    "# Package import"
   ]
  },
  {
   "cell_type": "code",
   "execution_count": 2,
   "metadata": {},
   "outputs": [],
   "source": [
    "import pandas as pd\n",
    "import numpy as np\n",
    "import os, re, seaborn\n",
    "from glob import glob"
   ]
  },
  {
   "cell_type": "markdown",
   "metadata": {},
   "source": [
    "# Setting up the filepaths and filenames we want to read in"
   ]
  },
  {
   "cell_type": "code",
   "execution_count": 3,
   "metadata": {},
   "outputs": [],
   "source": [
    "base_dir = os.path.dirname(os.getcwd())\n",
    "data_dir = os.path.join(base_dir,'data')\n",
    "participant_files = glob(os.path.join(data_dir,'WM*TAB.txt'))"
   ]
  },
  {
   "cell_type": "markdown",
   "metadata": {},
   "source": [
    "# Question 1. Reading in the data and filter to just trials."
   ]
  },
  {
   "cell_type": "code",
   "execution_count": 4,
   "metadata": {},
   "outputs": [],
   "source": [
    "dfs = []\n",
    "for f in participant_files:\n",
    "    tmp_df = pd.read_csv(f,sep='\\t')\n",
    "    tmp_df = tmp_df[tmp_df['Procedure[Block]'] == 'TrialsPROC']\n",
    "    dfs.append(tmp_df)\n",
    "allsub_df = pd.concat(dfs,axis=0)"
   ]
  },
  {
   "cell_type": "markdown",
   "metadata": {},
   "source": [
    "# Question 2: Determine the number of trials per subject."
   ]
  },
  {
   "cell_type": "code",
   "execution_count": 5,
   "metadata": {},
   "outputs": [
    {
     "name": "stdout",
     "output_type": "stream",
     "text": [
      "Each participant completed 80.0 trials\n"
     ]
    }
   ],
   "source": [
    "num_trials = len(allsub_df) / len(participant_files)\n",
    "print('Each participant completed',num_trials,'trials')"
   ]
  },
  {
   "cell_type": "markdown",
   "metadata": {},
   "source": [
    "# Question 3: Computing mean RT by condition."
   ]
  },
  {
   "cell_type": "code",
   "execution_count": 6,
   "metadata": {},
   "outputs": [
    {
     "data": {
      "text/plain": [
       "condition\n",
       "1     773.160891\n",
       "2     788.206436\n",
       "3     769.026238\n",
       "4     865.164851\n",
       "5     960.836139\n",
       "6     980.763366\n",
       "7     962.296535\n",
       "8    1026.607426\n",
       "Name: Stim.RT, dtype: float64"
      ]
     },
     "execution_count": 6,
     "metadata": {},
     "output_type": "execute_result"
    }
   ],
   "source": [
    "allsub_df['condition'] = np.where( (allsub_df['StimType']=='Face') & (allsub_df['BlockType']=='0-Back'),1,np.where( (allsub_df['StimType']=='Place') & (allsub_df['BlockType']=='0-Back'),2,np.where( (allsub_df['StimType']=='Tools') & (allsub_df['BlockType']=='0-Back'),3,np.where( (allsub_df['StimType']=='Body') & (allsub_df['BlockType']=='0-Back'),4,np.where( (allsub_df['StimType']=='Face') & (allsub_df['BlockType']=='2-Back'),5,np.where( (allsub_df['StimType']=='Place') & (allsub_df['BlockType']=='2-Back'),6,np.where( (allsub_df['StimType']=='Tools') & (allsub_df['BlockType']=='2-Back'),7,np.where( (allsub_df['StimType']=='Body') & (allsub_df['BlockType']=='2-Back'),8,0))))))))\n",
    "mean_rt_sublevel_df = allsub_df.groupby(['HCPID','condition'])['Stim.RT'].mean()\n",
    "mean_rt_sublevel_df.groupby('condition').mean()"
   ]
  },
  {
   "cell_type": "markdown",
   "metadata": {},
   "source": [
    "# Question 4: What is the mean prop. accuracy of the 8 conditions across subjects?"
   ]
  },
  {
   "cell_type": "code",
   "execution_count": 7,
   "metadata": {},
   "outputs": [
    {
     "data": {
      "text/plain": [
       "condition\n",
       "1    0.9425\n",
       "2    0.9380\n",
       "3    0.9090\n",
       "4    0.8860\n",
       "5    0.8805\n",
       "6    0.8840\n",
       "7    0.8520\n",
       "8    0.7785\n",
       "dtype: float64"
      ]
     },
     "execution_count": 7,
     "metadata": {},
     "output_type": "execute_result"
    }
   ],
   "source": [
    "allsub_df.groupby(['condition']).apply(lambda x: x['Stim.ACC'].sum()/len(x))"
   ]
  },
  {
   "cell_type": "code",
   "execution_count": null,
   "metadata": {},
   "outputs": [],
   "source": []
  }
 ],
 "metadata": {
  "kernelspec": {
   "display_name": "Python 3",
   "language": "python",
   "name": "python3"
  },
  "language_info": {
   "codemirror_mode": {
    "name": "ipython",
    "version": 3
   },
   "file_extension": ".py",
   "mimetype": "text/x-python",
   "name": "python",
   "nbconvert_exporter": "python",
   "pygments_lexer": "ipython3",
   "version": "3.7.6"
  }
 },
 "nbformat": 4,
 "nbformat_minor": 4
}
