{
 "cells": [
  {
   "cell_type": "markdown",
   "metadata": {},
   "source": [
    "# Preamble. Genomics Superstruct Project (GSP) Mental Rotation Task\n",
    "\n",
    "* GSP is--akin to HCP--a publicly released consortium dataset\n",
    "    * Full details published in Holmes et al. (2015), <a href=\"https://www.nature.com/articles/sdata201531\">_Scientific Data_</a>\n",
    "    \n",
    "## Contains a mental rotation task\n",
    "\n",
    "Shephard & Metzler. (1971), <a href=\"https://www.jstor.org/stable/pdf/1731476.pdf\">_Science_</a>\n",
    "\n",
    "<img src='../img/mental_rotation.gif' width='250'>\n",
    "    \n",
    "* 2-alternative forced choice\n",
    "    * Same / Mirror Image\n",
    "* 0, 80, 120, or 160 degree rotation\n",
    "* Main dependent measure: Accuracy\n",
    "\n",
    "## Your assignment:\n",
    "\n",
    "* Use the techniques you learned in class to answer the following 2 hypotheses:\n",
    "    1. Accuracy will decrease with increasing degrees of mental rotation.\n",
    "    2. Mental rotation gets worse as a function of age."
   ]
  },
  {
   "cell_type": "code",
   "execution_count": 1,
   "metadata": {},
   "outputs": [
    {
     "name": "stderr",
     "output_type": "stream",
     "text": [
      "── \u001b[1mAttaching packages\u001b[22m ─────────────────────────────────────── tidyverse 1.2.1 ──\n",
      "\n",
      "\u001b[32m✔\u001b[39m \u001b[34mggplot2\u001b[39m 3.3.0     \u001b[32m✔\u001b[39m \u001b[34mpurrr  \u001b[39m 0.3.4\n",
      "\u001b[32m✔\u001b[39m \u001b[34mtibble \u001b[39m 2.1.3     \u001b[32m✔\u001b[39m \u001b[34mdplyr  \u001b[39m 0.8.3\n",
      "\u001b[32m✔\u001b[39m \u001b[34mtidyr  \u001b[39m 1.0.0     \u001b[32m✔\u001b[39m \u001b[34mstringr\u001b[39m 1.3.1\n",
      "\u001b[32m✔\u001b[39m \u001b[34mreadr  \u001b[39m 1.1.1     \u001b[32m✔\u001b[39m \u001b[34mforcats\u001b[39m 0.3.0\n",
      "\n",
      "Warning message:\n",
      "“package ‘ggplot2’ was built under R version 3.5.2”\n",
      "Warning message:\n",
      "“package ‘tibble’ was built under R version 3.5.2”\n",
      "Warning message:\n",
      "“package ‘tidyr’ was built under R version 3.5.2”\n",
      "Warning message:\n",
      "“package ‘dplyr’ was built under R version 3.5.2”\n",
      "── \u001b[1mConflicts\u001b[22m ────────────────────────────────────────── tidyverse_conflicts() ──\n",
      "\u001b[31m✖\u001b[39m \u001b[34mdplyr\u001b[39m::\u001b[32mfilter()\u001b[39m masks \u001b[34mstats\u001b[39m::filter()\n",
      "\u001b[31m✖\u001b[39m \u001b[34mdplyr\u001b[39m::\u001b[32mlag()\u001b[39m    masks \u001b[34mstats\u001b[39m::lag()\n",
      "\n",
      "Parsed with column specification:\n",
      "cols(\n",
      "  .default = col_double(),\n",
      "  Subject_ID = col_character(),\n",
      "  Subject_Rescan_ID = col_character(),\n",
      "  MRI = col_integer(),\n",
      "  Behavior = col_character(),\n",
      "  Sex = col_character(),\n",
      "  Age_Bin = col_integer(),\n",
      "  Hand = col_character(),\n",
      "  Educ = col_integer(),\n",
      "  Race_Ethn = col_character(),\n",
      "  Scanner_Bin = col_character(),\n",
      "  Console = col_character(),\n",
      "  Coil = col_character(),\n",
      "  ANAT = col_integer(),\n",
      "  BOLD1 = col_integer(),\n",
      "  BOLD1_MotMicro = col_integer(),\n",
      "  BOLD2 = col_integer(),\n",
      "  BOLD2_MotMicro = col_integer(),\n",
      "  Flank_S_medRTcorr = col_integer(),\n",
      "  Flank_S_score = col_integer(),\n",
      "  Flank_NS_score = col_integer()\n",
      "  # ... with 14 more columns\n",
      ")\n",
      "\n",
      "See spec(...) for full column specifications.\n",
      "\n"
     ]
    }
   ],
   "source": [
    "library(tidyverse)\n",
    "\n",
    "# load in the dataset\n",
    "df <- read_csv('../data/GSP_list_140630.csv')"
   ]
  },
  {
   "cell_type": "code",
   "execution_count": null,
   "metadata": {},
   "outputs": [],
   "source": []
  }
 ],
 "metadata": {
  "kernelspec": {
   "display_name": "R",
   "language": "R",
   "name": "ir"
  },
  "language_info": {
   "codemirror_mode": "r",
   "file_extension": ".r",
   "mimetype": "text/x-r-source",
   "name": "R",
   "pygments_lexer": "r",
   "version": "3.5.0"
  }
 },
 "nbformat": 4,
 "nbformat_minor": 4
}
