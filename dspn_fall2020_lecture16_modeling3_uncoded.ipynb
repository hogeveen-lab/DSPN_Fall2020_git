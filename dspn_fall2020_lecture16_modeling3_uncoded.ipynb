{
 "cells": [
  {
   "cell_type": "markdown",
   "metadata": {},
   "source": [
    "# Data Science in Psychology & Neuroscience (DSPN): \n",
    "\n",
    "## Lecture 16. Data Modeling (part 1)\n",
    "\n",
    "### Date: October 20, 2020\n",
    "\n",
    "### To-Dos From Last Class:\n",
    "\n",
    "* Enjoy life!\n",
    "    \n",
    "### Today:\n",
    "\n",
    "* Linear Mixed-Effects Models\n",
    "\n",
    "### Homework\n",
    "\n",
    "* Enjoy life! (_maybe_ download assignment 5 starter)"
   ]
  },
  {
   "cell_type": "code",
   "execution_count": 1,
   "metadata": {},
   "outputs": [],
   "source": [
    "# plot theme stuff\n",
    "# Many palettes available online, can customize\n",
    "# these are from: https://colorbrewer2.org/#type=qualitative&scheme=Set1&n=9\n",
    "my_palette <- c(\"#e41a1c\",\"#377eb8\",\"#4daf4a\",\"#984ea3\",\"#ff7f00\")\n",
    "\n",
    "# This is the basic function I use for all the ggplots I create. \n",
    "# Modified from this black themed ggplot function: https://gist.github.com/jslefche/eff85ef06b4705e6efbc\n",
    "my_theme = function(base_size = 24, base_family = \"\") {\n",
    "  \n",
    "  theme_grey(base_size = base_size, base_family = base_family) %+replace%\n",
    "    \n",
    "    theme(\n",
    "      # Specify axis options\n",
    "      axis.line = element_blank(),  \n",
    "      axis.text.x = element_text(size = base_size*0.8, color = \"black\", lineheight = 0.9),  \n",
    "      axis.text.y = element_text(size = base_size*0.8, color = \"black\", lineheight = 0.9),  \n",
    "      axis.ticks = element_line(color = \"black\", size  =  0.2),\n",
    "      axis.title.x = element_text(size = base_size, color = \"black\", margin = margin(10, 0, 0, 0)),\n",
    "      axis.title.y = element_text(size = base_size, color = \"black\", angle = 90, margin = margin(0, 10, 0, 0)),  \n",
    "      axis.ticks.length = unit(0.3, \"lines\"),   \n",
    "      # Specify legend options\n",
    "      legend.background = element_rect(color = NA, fill = \"#ffffff\"),  \n",
    "      legend.key = element_rect(color = \"black\",  fill = \"#ffffff\"),  \n",
    "      legend.key.size = unit(2, \"lines\"),  \n",
    "      legend.key.height = NULL,  \n",
    "      legend.key.width = NULL,      \n",
    "      legend.text = element_text(size = base_size*0.8, color = \"black\"),  \n",
    "      legend.title = element_text(size = base_size*0.8, face = \"bold\", hjust = 0, color = \"black\"),\n",
    "      legend.position = \"right\",  \n",
    "      legend.text.align = NULL,  \n",
    "      legend.title.align = NULL,  \n",
    "      legend.direction = \"vertical\",  \n",
    "      legend.box = NULL, \n",
    "      # Specify panel options\n",
    "      panel.background = element_rect(fill = \"#ffffff\", color  =  NA),  \n",
    "      panel.border = element_rect(fill = NA, color = \"black\"),  \n",
    "      panel.grid.major = element_line(color = \"#ffffff\"),  \n",
    "      panel.grid.minor = element_line(color = \"#ffffff\"),  \n",
    "      panel.spacing = unit(2, \"lines\"),\n",
    "      # Specify facetting options\n",
    "      strip.background = element_rect(fill = \"grey30\", color = \"grey10\"),  \n",
    "      strip.text.x = element_text(size = base_size*0.8, color = \"black\"),  \n",
    "      strip.text.y = element_text(size = base_size*0.8, color = \"black\",angle = -90),  \n",
    "      # Specify plot options\n",
    "      plot.background = element_rect(color = \"#ffffff\", fill = \"#ffffff\"),  \n",
    "      plot.title = element_text(size = base_size*1.2, color = \"black\"),  \n",
    "      plot.margin = unit(rep(1, 4), \"lines\")\n",
    "    ) \n",
    "}"
   ]
  },
  {
   "cell_type": "code",
   "execution_count": null,
   "metadata": {},
   "outputs": [],
   "source": []
  }
 ],
 "metadata": {
  "kernelspec": {
   "display_name": "R",
   "language": "R",
   "name": "ir"
  },
  "language_info": {
   "codemirror_mode": "r",
   "file_extension": ".r",
   "mimetype": "text/x-r-source",
   "name": "R",
   "pygments_lexer": "r",
   "version": "3.5.0"
  }
 },
 "nbformat": 4,
 "nbformat_minor": 4
}
