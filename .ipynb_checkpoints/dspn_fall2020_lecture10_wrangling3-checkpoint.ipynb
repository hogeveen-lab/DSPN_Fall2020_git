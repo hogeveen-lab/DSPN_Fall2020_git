{
 "cells": [
  {
   "cell_type": "markdown",
   "metadata": {},
   "source": [
    "# Data Science in Psychology & Neuroscience (DSPN): \n",
    "\n",
    "## Lecture 10. Data Wrangling (part 3)\n",
    "\n",
    "### Date: September 24, 2020\n",
    "\n",
    "### To-Dos From Last Class:\n",
    "\n",
    "* Download Assignment #3 start kit data\n",
    "    * Just one difficulty-level... Sorry!\n",
    "    \n",
    "### Today:\n",
    "\n",
    "* Wrangle imitation inhibition task data\n",
    "    * Iterate through to load the first level data\n",
    "    * Concatenate all together to create one data frame to rule them all\n",
    "    * Merge with questionnaire data\n",
    "    * Write to trial-level allsubjects csv\n",
    "    * Compute summary measures\n",
    "    * Save to summary allsubjects csv\n",
    "* Introduce Assignment #3\n",
    "\n",
    "### Homework\n",
    "\n",
    "* Assignment #3\n",
    "    * Now due on 10/1"
   ]
  },
  {
   "cell_type": "markdown",
   "metadata": {},
   "source": [
    "## Automatic Imitation Experiment\n",
    "\n",
    "<img src=\"img/ait_task.png\" width=\"700\">\n",
    "\n",
    "* 20 trials per condition (100 total responses for each participant)\n",
    "    * Average across cued response finger\n",
    "* Condition mapping:\n",
    "    0. Baseline \n",
    "    1. Effector congruent \n",
    "    2. Effector incongruent\n",
    "    3. Movement congruent\n",
    "    4. Movement incongruent"
   ]
  },
  {
   "cell_type": "markdown",
   "metadata": {},
   "source": [
    "# Importing Packages"
   ]
  },
  {
   "cell_type": "code",
   "execution_count": 2,
   "metadata": {},
   "outputs": [],
   "source": [
    "# Packages that are key for interacting with the OS and matching filename patterns\n",
    "import os\n",
    "from glob import glob # only need the glob subpackage from glob\n",
    "\n",
    "# Packages that are key for data wrangling\n",
    "import numpy as np\n",
    "import pandas as pd\n",
    "\n",
    "# to do some uber simple visualizations\n",
    "import matplotlib.pyplot as plt\n",
    "import seaborn as sns"
   ]
  },
  {
   "cell_type": "markdown",
   "metadata": {},
   "source": [
    "# Setting up the filepaths"
   ]
  },
  {
   "cell_type": "code",
   "execution_count": 5,
   "metadata": {},
   "outputs": [],
   "source": [
    "# get current working directory\n",
    "script_dir = os.getcwd()\n",
    "\n",
    "# Go above current working directory and\n",
    "first_dir = os.path.join(script_dir,'misc_exercises/imitation_inhibition_paradigm/data/first') #misc_exercises/ for git\n",
    "P_file_pattern = 'P*.txt'\n",
    "second_dir = os.path.join(script_dir,'misc_exercises/imitation_inhibition_paradigm/data/second')\n",
    "questionnaire_file = os.path.join(second_dir,'ait_questionnaires.csv')\n",
    "\n",
    "# Using glob to find all participant data files\n",
    "all_files = glob(os.path.join(first_dir,P_file_pattern))"
   ]
  },
  {
   "cell_type": "markdown",
   "metadata": {},
   "source": [
    "# Loading in a test subject to make sense of things"
   ]
  },
  {
   "cell_type": "code",
   "execution_count": 6,
   "metadata": {},
   "outputs": [
    {
     "name": "stdout",
     "output_type": "stream",
     "text": [
      "How many rows in initial loaded data frame: 521\n",
      "How many rows in key release filtered data frame: 101\n",
      "How many rows in no-double-response filtered data frame: 100\n"
     ]
    },
    {
     "name": "stderr",
     "output_type": "stream",
     "text": [
      "/Users/jeremyhogeveen/anaconda3/lib/python3.7/site-packages/ipykernel_launcher.py:18: SettingWithCopyWarning: \n",
      "A value is trying to be set on a copy of a slice from a DataFrame.\n",
      "Try using .loc[row_indexer,col_indexer] = value instead\n",
      "\n",
      "See the caveats in the documentation: https://pandas.pydata.org/pandas-docs/stable/user_guide/indexing.html#returning-a-view-versus-a-copy\n",
      "/Users/jeremyhogeveen/anaconda3/lib/python3.7/site-packages/ipykernel_launcher.py:20: SettingWithCopyWarning: \n",
      "A value is trying to be set on a copy of a slice from a DataFrame.\n",
      "Try using .loc[row_indexer,col_indexer] = value instead\n",
      "\n",
      "See the caveats in the documentation: https://pandas.pydata.org/pandas-docs/stable/user_guide/indexing.html#returning-a-view-versus-a-copy\n"
     ]
    }
   ],
   "source": [
    "# Reading in the data\n",
    "sample_df = pd.read_csv(all_files[0], error_bad_lines=False, skiprows=5, sep='\\t') \n",
    "print('How many rows in initial loaded data frame:',len(sample_df)) # What things might cause this to not == 100?\n",
    "\n",
    "# Filtering the data down to just the experimental block rows\n",
    "sample_df = sample_df[sample_df['Name.1']==\"AI_Block\"]\n",
    "sample_df.loc[:, 'Finger':'Repeated']\n",
    "sample_df.loc[50:300, :]\n",
    "\n",
    "# Filtering the df down to just the key release responses\n",
    "sample_df_releases = sample_df[sample_df['Released']=='Released'] \n",
    "\n",
    "# How many key release responses do we have?\n",
    "print('How many rows in key release filtered data frame:',len(sample_df_releases)) # What things might cause this to not == 100? For now, just worry baout double responses. For this task, error rates so low that miss response trials not really important.\n",
    "# print(sample_df_releases)\n",
    "\n",
    "# Identifying double responses\n",
    "sample_df_releases['shift'] = sample_df_releases['Name.2'].shift() # creating a new column ('shift') based on the next row of our trial name column. \"SettingWithCopyWarning\".\n",
    "# print(sample_df_releases[['Name.2','shift']]) # checking that it worked, show them shift(-1) \n",
    "sample_df_releases['double_response'] = np.where(sample_df_releases['shift']==sample_df_releases['Name.2'], 1, 0) # using a numpy where conditional to identify double responses\n",
    "\n",
    "# Filtering our double response trials\n",
    "sample_df_releases_nodouble = sample_df_releases[sample_df_releases['double_response']==0] \n",
    "print('How many rows in no-double-response filtered data frame:',len(sample_df_releases_nodouble)) # Seeing if we have the right # of rows now"
   ]
  },
  {
   "cell_type": "markdown",
   "metadata": {},
   "source": [
    "# Quick excursion into what the data frame contains..."
   ]
  },
  {
   "cell_type": "code",
   "execution_count": 7,
   "metadata": {},
   "outputs": [
    {
     "data": {
      "text/plain": [
       "array([1, 2, 1, 1, 1, 1, 2, 2, 2, 2, 1, 2, 2, 2, 1, 2, 2, 1, 1, 1, 2, 1,\n",
       "       2, 2, 1, 1, 2, 1, 2, 1, 2, 1, 2, 2, 1, 1, 2, 2, 1, 1, 1, 1, 2, 1,\n",
       "       1, 1, 2, 2, 2, 2, 1, 2, 2, 1, 2, 2, 1, 1, 1, 2, 1, 2, 1, 1, 1, 2,\n",
       "       2, 2, 2, 2, 1, 2, 2, 1, 1, 2, 2, 1, 2, 1, 1, 2, 1, 1, 2, 1, 2, 1,\n",
       "       2, 1, 2, 1, 2, 2, 1, 2, 1, 1, 1, 2, 2])"
      ]
     },
     "execution_count": 7,
     "metadata": {},
     "output_type": "execute_result"
    }
   ],
   "source": [
    "# Pandas data frames are a collection of series, which are different ways of storing arrays\n",
    "\n",
    "sample_df_releases['Finger'].values\n",
    "\n",
    "# np.array([1, 2, 1, 1, 1, 1, 2, 2, 2, 2, 1, 2, 2, 2, 1, 2, 2, 1, 1, 1, 2, 1,\n",
    "#        2, 2, 1, 1, 2, 1, 2, 1, 2, 1, 2, 2, 1, 1, 2, 2, 1, 1, 1, 1, 2, 1,\n",
    "#        1, 1, 2, 2, 2, 2, 1, 2, 2, 1, 2, 2, 1, 1, 1, 2, 1, 2, 1, 1, 1, 2,\n",
    "#        2, 2, 2, 2, 1, 2, 2, 1, 1, 2, 2, 1, 2, 1, 1, 2, 1, 1, 2, 1, 2, 1,\n",
    "#        2, 1, 2, 1, 2, 2, 1, 2, 1, 1, 1, 2, 2])\n",
    "\n",
    "# list([1, 2, 1, 1, 1, 1, 2, 2, 2, 2, 1, 2, 2, 2, 1, 2, 2, 1, 1, 1, 2, 1,\n",
    "#        2, 2, 1, 1, 2, 1, 2, 1, 2, 1, 2, 2, 1, 1, 2, 2, 1, 1, 1, 1, 2, 1,\n",
    "#        1, 1, 2, 2, 2, 2, 1, 2, 2, 1, 2, 2, 1, 1, 1, 2, 1, 2, 1, 1, 1, 2,\n",
    "#        2, 2, 2, 2, 1, 2, 2, 1, 1, 2, 2, 1, 2, 1, 1, 2, 1, 1, 2, 1, 2, 1,\n",
    "#        2, 1, 2, 1, 2, 2, 1, 2, 1, 1, 1, 2, 2])"
   ]
  },
  {
   "cell_type": "markdown",
   "metadata": {},
   "source": [
    "# Iterating through to get all first level data, concatenating into a single data frame"
   ]
  },
  {
   "cell_type": "code",
   "execution_count": 8,
   "metadata": {},
   "outputs": [
    {
     "name": "stderr",
     "output_type": "stream",
     "text": [
      "/Users/jeremyhogeveen/anaconda3/lib/python3.7/site-packages/ipykernel_launcher.py:9: SettingWithCopyWarning: \n",
      "A value is trying to be set on a copy of a slice from a DataFrame.\n",
      "Try using .loc[row_indexer,col_indexer] = value instead\n",
      "\n",
      "See the caveats in the documentation: https://pandas.pydata.org/pandas-docs/stable/user_guide/indexing.html#returning-a-view-versus-a-copy\n",
      "  if __name__ == '__main__':\n"
     ]
    },
    {
     "name": "stdout",
     "output_type": "stream",
     "text": [
      "the participant counter from our loop: 48 should be roughly equivalent to our # of rows / 100: 45.95\n"
     ]
    }
   ],
   "source": [
    "# Setting up a pid counter to count iterations, also a blank pandas data frame\n",
    "pid_counter = 1\n",
    "dfs_list = [] # creating a list of pandas objects\n",
    "\n",
    "# iterate through our participant data files\n",
    "for cur_file in all_files:\n",
    "    cur_df = pd.read_csv(cur_file, skiprows=5, sep='\\t')\n",
    "    cur_df_releases = cur_df[(cur_df['Released']=='Released') & (cur_df['Name.1']==\"AI_Block\")]\n",
    "    cur_df_releases['double_response'] = np.where(cur_df_releases['Name.2'].shift()==cur_df_releases['Name.2'], 1, 0) # faster way to find double responses\n",
    "    cur_df_releases_nodouble = cur_df_releases[cur_df_releases['double_response']==0]\n",
    "    # filter to correct response trials\n",
    "    cur_df_releases_nodouble_correct = cur_df_releases_nodouble[cur_df_releases_nodouble['Code']=='C']\n",
    "    # Append everythng to a list of data frames\n",
    "    dfs_list.append(cur_df_releases_nodouble_correct)\n",
    "    # beaucse I like to confirm I got everything\n",
    "    pid_counter += 1\n",
    "\n",
    "allsubs_df = pd.concat(dfs_list, axis=0)\n",
    "\n",
    "# checking to make sure we got all the data\n",
    "print('the participant counter from our loop:',\n",
    "      pid_counter-1,\n",
    "      'should be roughly equivalent to our # of rows / 100:',\n",
    "      allsubs_df['Congruence'].count() / 100)"
   ]
  },
  {
   "cell_type": "markdown",
   "metadata": {},
   "source": [
    "# Loading in the questionnaire data and merging it with behavioral data"
   ]
  },
  {
   "cell_type": "code",
   "execution_count": 10,
   "metadata": {},
   "outputs": [],
   "source": [
    "# renaming pid column in data frame -- to match the questionnaire pid column\n",
    "allsubs_df = allsubs_df.rename(columns={\"Name\": \"pid\"})\n",
    "\n",
    "# read in the questionnaire data\n",
    "questionnaire_df = pd.read_csv(questionnaire_file)\n",
    "\n",
    "# merge the questionnaires with the allsubs data\n",
    "allsubs_df = pd.merge(allsubs_df,questionnaire_df,how='outer',on='pid')\n",
    "# print(allsubs_df)"
   ]
  },
  {
   "cell_type": "markdown",
   "metadata": {},
   "source": [
    "# Writing the observation-level data to a big csv"
   ]
  },
  {
   "cell_type": "code",
   "execution_count": 11,
   "metadata": {},
   "outputs": [],
   "source": [
    "# Writing the data to a second-level data frame that we will eventually play with in R\n",
    "out_filename = os.path.join(second_dir,'ait_trialwise.csv')\n",
    "# pd.to_csv(allsubs_df,out_filename)\n",
    "allsubs_df.to_csv(out_filename,index=False)"
   ]
  },
  {
   "cell_type": "markdown",
   "metadata": {},
   "source": [
    "# Computing subject-level summary measures (mean RT by pid)"
   ]
  },
  {
   "cell_type": "code",
   "execution_count": 16,
   "metadata": {},
   "outputs": [
    {
     "data": {
      "text/plain": [
       "<matplotlib.axes._subplots.AxesSubplot at 0x7fec375ce1d0>"
      ]
     },
     "execution_count": 16,
     "metadata": {},
     "output_type": "execute_result"
    },
    {
     "data": {
      "image/png": "[encoded data removed]",
      "text/plain": [
       "<Figure size 432x288 with 1 Axes>"
      ]
     },
     "metadata": {
      "needs_background": "light"
     },
     "output_type": "display_data"
    }
   ],
   "source": [
    "# computing mean RT by pid\n",
    "mean_rt = allsubs_df.groupby('pid')['Time'].mean()\n",
    "\n",
    "# plot the mean RT data by participant\n",
    "sns.boxplot(data=mean_rt)"
   ]
  },
  {
   "cell_type": "markdown",
   "metadata": {},
   "source": [
    "# Computing subject-level summary measures (mean RT by pid by condition)"
   ]
  },
  {
   "cell_type": "code",
   "execution_count": 14,
   "metadata": {},
   "outputs": [
    {
     "data": {
      "text/plain": [
       "<matplotlib.axes._subplots.AxesSubplot at 0x7fec36b52d90>"
      ]
     },
     "execution_count": 14,
     "metadata": {},
     "output_type": "execute_result"
    },
    {
     "data": {
      "image/png": "[encoded data removed]",
      "text/plain": [
       "<Figure size 1080x720 with 1 Axes>"
      ]
     },
     "metadata": {
      "needs_background": "light"
     },
     "output_type": "display_data"
    }
   ],
   "source": [
    "# generating a string conditions column baserd on the 5 congruence levels\n",
    "allsubs_df['strCondition'] = np.where(allsubs_df['Congruence']==0, 'baseline',\n",
    "                                      np.where(allsubs_df['Congruence']==1, 'effector_congruent',\n",
    "                                               np.where(allsubs_df['Congruence']==2, 'effector_incongruent',\n",
    "                                                        np.where(allsubs_df['Congruence']==3, 'movement_congruent',\n",
    "                                                              np.where(allsubs_df['Congruence']==4, 'movement_incongruent','NA')))))\n",
    "\n",
    "# computing mean RT by pid by condition\n",
    "mean_cdn_rt = allsubs_df.groupby(['pid','strCondition'])['Time'].mean().unstack()\n",
    "# print(mean_cdn_rt)\n",
    "\n",
    "# create a figure\n",
    "plt.figure(figsize=(15,10))\n",
    "sns.boxplot(data=mean_cdn_rt)"
   ]
  },
  {
   "cell_type": "markdown",
   "metadata": {},
   "source": [
    "# Writing the subject-level RT data to a CSV"
   ]
  },
  {
   "cell_type": "code",
   "execution_count": 78,
   "metadata": {},
   "outputs": [],
   "source": [
    "# Writing the data to a second-level data frame that we will eventually play with in R\n",
    "subj_out_filename = os.path.join(second_dir,'ait_subjectlevel.csv')\n",
    "mean_cdn_rt.to_csv(subj_out_filename,index=True)"
   ]
  },
  {
   "cell_type": "code",
   "execution_count": null,
   "metadata": {},
   "outputs": [],
   "source": []
  }
 ],
 "metadata": {
  "kernelspec": {
   "display_name": "Python 3",
   "language": "python",
   "name": "python3"
  },
  "language_info": {
   "codemirror_mode": {
    "name": "ipython",
    "version": 3
   },
   "file_extension": ".py",
   "mimetype": "text/x-python",
   "name": "python",
   "nbconvert_exporter": "python",
   "pygments_lexer": "ipython3",
   "version": "3.7.6"
  }
 },
 "nbformat": 4,
 "nbformat_minor": 4
}
