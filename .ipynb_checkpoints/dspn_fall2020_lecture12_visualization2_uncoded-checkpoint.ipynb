{
 "cells": [
  {
   "cell_type": "markdown",
   "metadata": {},
   "source": [
    "# Data Science in Psychology & Neuroscience (DSPN): \n",
    "\n",
    "## Lecture 12. Data Visualization (part 2)\n",
    "\n",
    "### Date: October 1, 2020\n",
    "\n",
    "### To-Dos From Last Class:\n",
    "\n",
    "* Work on Assignment #3\n",
    "    \n",
    "### Today:\n",
    "\n",
    "1. Prep the data\n",
    "    1. Read the trial-level imitation inhibition task data in\n",
    "    2. Compute summary RT and error rate (ER) data by participant/condition\n",
    "2. Plotting in ggplot\n",
    "    1. ggplot template\n",
    "    2. Layers\n",
    "    3. Grouping the data (Fill & Color)\n",
    "    4. Other formatting stuff (Themes)\n",
    "    5. Spotting / labelling outliers\n",
    "\n",
    "### Homework\n",
    "\n",
    "* Assignment #3: <a href=\"https://www.dropbox.com/request/fohpUaInmJjV5fxd6Hhe\">Data Wrangling</a> (before 10/1, 23:00 MDT)"
   ]
  },
  {
   "cell_type": "markdown",
   "metadata": {},
   "source": [
    "## Reminder: Imitation inhibition task dataset\n",
    "\n",
    "<img src=\"img/ait_task.png\">\n",
    "\n",
    "* 20 trials per condition (100 total responses for each participant)\n",
    "    * Average across cued response finger\n",
    "* Condition mapping:\n",
    "    1. Baseline \n",
    "    2. Effector congruent \n",
    "    3. Effector incongruent\n",
    "    4. Movement congruent\n",
    "    5. Movement incongruent"
   ]
  },
  {
   "cell_type": "markdown",
   "metadata": {},
   "source": [
    "# Part 1A: Reading in the dataset\n",
    "\n",
    "* Load the tidyverse package\n",
    "* Assign filepath\n",
    "* Read in the data"
   ]
  },
  {
   "cell_type": "code",
   "execution_count": 1,
   "metadata": {},
   "outputs": [
    {
     "name": "stderr",
     "output_type": "stream",
     "text": [
      "── \u001b[1mAttaching packages\u001b[22m ─────────────────────────────────────── tidyverse 1.2.1 ──\n",
      "\n",
      "\u001b[32m✔\u001b[39m \u001b[34mggplot2\u001b[39m 3.3.0     \u001b[32m✔\u001b[39m \u001b[34mpurrr  \u001b[39m 0.3.4\n",
      "\u001b[32m✔\u001b[39m \u001b[34mtibble \u001b[39m 2.1.3     \u001b[32m✔\u001b[39m \u001b[34mdplyr  \u001b[39m 0.8.3\n",
      "\u001b[32m✔\u001b[39m \u001b[34mtidyr  \u001b[39m 1.0.0     \u001b[32m✔\u001b[39m \u001b[34mstringr\u001b[39m 1.3.1\n",
      "\u001b[32m✔\u001b[39m \u001b[34mreadr  \u001b[39m 1.1.1     \u001b[32m✔\u001b[39m \u001b[34mforcats\u001b[39m 0.3.0\n",
      "\n",
      "Warning message:\n",
      "“package ‘ggplot2’ was built under R version 3.5.2”\n",
      "Warning message:\n",
      "“package ‘tibble’ was built under R version 3.5.2”\n",
      "Warning message:\n",
      "“package ‘tidyr’ was built under R version 3.5.2”\n",
      "Warning message:\n",
      "“package ‘dplyr’ was built under R version 3.5.2”\n",
      "── \u001b[1mConflicts\u001b[22m ────────────────────────────────────────── tidyverse_conflicts() ──\n",
      "\u001b[31m✖\u001b[39m \u001b[34mdplyr\u001b[39m::\u001b[32mfilter()\u001b[39m masks \u001b[34mstats\u001b[39m::filter()\n",
      "\u001b[31m✖\u001b[39m \u001b[34mdplyr\u001b[39m::\u001b[32mlag()\u001b[39m    masks \u001b[34mstats\u001b[39m::lag()\n",
      "\n",
      "Parsed with column specification:\n",
      "cols(\n",
      "  .default = col_integer(),\n",
      "  Group = col_character(),\n",
      "  pid = col_character(),\n",
      "  Name.1 = col_character(),\n",
      "  Name.2 = col_character(),\n",
      "  Name.3 = col_character(),\n",
      "  Response = col_character(),\n",
      "  Key = col_character(),\n",
      "  Released = col_character(),\n",
      "  Response.1 = col_character(),\n",
      "  Code = col_character(),\n",
      "  `(Trial Variable)` = col_character(),\n",
      "  Correct = col_character()\n",
      ")\n",
      "\n",
      "See spec(...) for full column specifications.\n",
      "\n"
     ]
    }
   ],
   "source": [
    "# loading the tidyverse\n",
    "library(tidyverse)\n",
    "\n",
    "# reading in the data\n",
    "data_dir <- './misc_exercises/imitation_inhibition_paradigm/data/second/' # relative to cur_dir\n",
    "file <- 'ait_trialwise.csv'\n",
    "\n",
    "# reading in the dataset\n",
    "df <- read_csv(paste(data_dir,file,sep=''))"
   ]
  },
  {
   "cell_type": "markdown",
   "metadata": {},
   "source": [
    "# 1B. Compute summary RT and error rate (ER) data by participant/condition\n",
    "\n",
    "* Recode 'Congruence' as strings\n",
    "    * Also break down into separate stim type * congruence columns\n",
    "* Recode \"Error Code\" as an integer\n",
    "    * Useful for calculateing ER\n",
    "* Compute summary statistics"
   ]
  },
  {
   "cell_type": "code",
   "execution_count": null,
   "metadata": {},
   "outputs": [],
   "source": []
  },
  {
   "cell_type": "code",
   "execution_count": null,
   "metadata": {},
   "outputs": [],
   "source": []
  },
  {
   "cell_type": "markdown",
   "metadata": {},
   "source": [
    "# 2A. ggplot template\n",
    "\n",
    "* Note: ggplot reference for different geom_functions etc.\n",
    "    * https://ggplot2.tidyverse.org/reference/"
   ]
  },
  {
   "cell_type": "code",
   "execution_count": 3,
   "metadata": {},
   "outputs": [],
   "source": [
    "# ggplot(data = <DATA>) + \n",
    "#   <GEOM_FUNCTION>(mapping = aes(<MAPPINGS>)) \n",
    "\n",
    "# ggplot initiates a blank plot object\n",
    "# aes = aesthetic mappings\n",
    "# geom_functions = geometric objects"
   ]
  },
  {
   "cell_type": "code",
   "execution_count": null,
   "metadata": {},
   "outputs": [],
   "source": []
  },
  {
   "cell_type": "markdown",
   "metadata": {},
   "source": [
    "# 2B. Layers\n",
    "\n",
    "* Can layer as many different geometric objects (i.e., geom_ thingys) as you like!"
   ]
  },
  {
   "cell_type": "code",
   "execution_count": null,
   "metadata": {},
   "outputs": [],
   "source": []
  },
  {
   "cell_type": "code",
   "execution_count": null,
   "metadata": {},
   "outputs": [],
   "source": []
  },
  {
   "cell_type": "markdown",
   "metadata": {},
   "source": [
    "# 2C. Grouping the data (e.g. for visualizing interactions between factors)\n",
    "\n",
    "* Plotting stim type BY sr_comp interaction\n",
    "* Noting the difference between _fill_ and _colour_\n",
    "    * Fill --> specifying colour to fill a geom\n",
    "    * Colour --> specifying colour to outline a geom"
   ]
  },
  {
   "cell_type": "code",
   "execution_count": null,
   "metadata": {},
   "outputs": [],
   "source": []
  },
  {
   "cell_type": "code",
   "execution_count": null,
   "metadata": {},
   "outputs": [],
   "source": []
  },
  {
   "cell_type": "code",
   "execution_count": null,
   "metadata": {},
   "outputs": [],
   "source": []
  },
  {
   "cell_type": "code",
   "execution_count": null,
   "metadata": {},
   "outputs": [],
   "source": []
  },
  {
   "cell_type": "markdown",
   "metadata": {},
   "source": [
    "# 2D. Formatting the plots (Themes)\n",
    "\n",
    "* Plot outline / background\n",
    "* Axis labels"
   ]
  },
  {
   "cell_type": "code",
   "execution_count": null,
   "metadata": {},
   "outputs": [],
   "source": []
  },
  {
   "cell_type": "code",
   "execution_count": null,
   "metadata": {},
   "outputs": [],
   "source": []
  },
  {
   "cell_type": "code",
   "execution_count": null,
   "metadata": {},
   "outputs": [],
   "source": []
  },
  {
   "cell_type": "code",
   "execution_count": null,
   "metadata": {},
   "outputs": [],
   "source": []
  },
  {
   "cell_type": "code",
   "execution_count": null,
   "metadata": {},
   "outputs": [],
   "source": []
  },
  {
   "cell_type": "markdown",
   "metadata": {},
   "source": [
    "# 2E. Spotting + Labeling Outliers\n",
    "\n",
    "* Plotting speed-accuracy tradeoff scatter\n",
    "* Labelling points by participant ID to figure out who I should look into further"
   ]
  },
  {
   "cell_type": "code",
   "execution_count": null,
   "metadata": {},
   "outputs": [],
   "source": []
  },
  {
   "cell_type": "code",
   "execution_count": null,
   "metadata": {},
   "outputs": [],
   "source": []
  }
 ],
 "metadata": {
  "kernelspec": {
   "display_name": "R",
   "language": "R",
   "name": "ir"
  },
  "language_info": {
   "codemirror_mode": "r",
   "file_extension": ".r",
   "mimetype": "text/x-r-source",
   "name": "R",
   "pygments_lexer": "r",
   "version": "3.5.0"
  }
 },
 "nbformat": 4,
 "nbformat_minor": 4
}
