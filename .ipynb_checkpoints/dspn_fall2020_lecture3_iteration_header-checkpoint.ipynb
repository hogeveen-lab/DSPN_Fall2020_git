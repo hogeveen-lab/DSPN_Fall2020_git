{
 "cells": [
  {
   "cell_type": "markdown",
   "metadata": {},
   "source": [
    "# Data Science in Psychology & Neuroscience (DSPN): \n",
    "\n",
    "## Lecture 3. Iteration\n",
    "\n",
    "### Date: August 25, 2020\n",
    "\n",
    "### To-Dos From Last Class:\n",
    "\n",
    "* N/A\n",
    "\n",
    "### Today:\n",
    "\n",
    "* What is iteration?\n",
    "* Simple iteration example\n",
    "* Slightly more complex iteration in an Excel spreadsheet\n",
    "* Convert into a Python code\n",
    "\n",
    "### Homework:\n",
    "\n",
    "* Download Assignment #1 starter kit from <a href=\"https://github.com/hogeveen-lab/DSPN_Fall2020_git\">github</a>"
   ]
  },
  {
   "cell_type": "markdown",
   "metadata": {},
   "source": [
    "# Iteration\n",
    "\n",
    "## What is it?\n",
    "\n",
    "* Repetition of a behavior\n",
    "\n",
    "<img src='img/iteration.jpg' width=500>\n",
    "\n",
    "##  When is this useful?\n",
    "\n",
    "* Simple tasks that require repetition\n",
    "    * Examples in psychology & neuroscience?\n",
    "        * Repeat across subjects\n",
    "        * Repeat across different sessions\n",
    "        * Repeat across different brain regions (fMRI)\n",
    "        * Repeat across different electrodes (EEG)\n",
    "        * Repeat across epochs within a dataset"
   ]
  },
  {
   "cell_type": "markdown",
   "metadata": {},
   "source": [
    "# Simple demonstration: Count from 0 to 100 in increments of 5 and print your answer\n",
    "## Version 1, using a WHILE loop"
   ]
  },
  {
   "cell_type": "code",
   "execution_count": null,
   "metadata": {},
   "outputs": [],
   "source": []
  },
  {
   "cell_type": "markdown",
   "metadata": {},
   "source": [
    "## Version 2, using a FOR loop"
   ]
  },
  {
   "cell_type": "code",
   "execution_count": null,
   "metadata": {},
   "outputs": [],
   "source": []
  },
  {
   "cell_type": "markdown",
   "metadata": {},
   "source": [
    "## Version 3, using list comprehension\n",
    "\n",
    "__Basic syntax: [Output for i in list]__\n",
    "\n",
    "Note: would most often include a conditional at the end as well (next week...)"
   ]
  },
  {
   "cell_type": "code",
   "execution_count": null,
   "metadata": {},
   "outputs": [],
   "source": []
  },
  {
   "cell_type": "markdown",
   "metadata": {},
   "source": [
    "# Example: Finding Complex Square Roots via Iteration\n",
    "\n",
    "## Problem\n",
    "\n",
    "Solve for x:\n",
    "\n",
    "$ x^2 = 4 $\n",
    "\n",
    "Can be translated to...\n",
    "\n",
    "$ x = \\sqrt{4} $\n",
    "\n",
    "$ x = 2 $\n",
    "\n",
    "Now, solve for x...\n",
    "\n",
    "$ x^2 = 28561 $\n",
    "\n",
    "<img src=\"img/jamm.gif\">"
   ]
  },
  {
   "cell_type": "markdown",
   "metadata": {},
   "source": [
    "## Newton's method\n",
    "\n",
    "Start with a guess, then revise your guess to \"find the roots\" of the y-value. How do we do this?\n",
    "\n",
    "Formally, \n",
    "\n",
    "$ x^2 = y $\n",
    "\n",
    "$ f(x) = x^2 - y = 0 $\n",
    "\n",
    "and its derivative... \n",
    "\n",
    "$ f'(x) = 2x $\n",
    "\n",
    "Using fancy algebra rules, we can solve for $x$ by dividing our initial point estimate by its derivative and updating $x$ until we get the right answer (i.e., iterating over values of $x$ until $x^2 = y$...\n",
    "\n",
    "$ x_1 = x_0 - \\frac{f(x_0)}{f'(x_0)} $\n",
    "\n",
    "In English: our next best guess ($x_1$) is equal to our old guess ($x_0$), minus our original result ($f(x_0)$) divided by its derivative ($f'(x_0)$)\n",
    "\n",
    "__Let's try this in an Excel spreadsheet...__"
   ]
  },
  {
   "cell_type": "markdown",
   "metadata": {},
   "source": [
    "### Now, let's try it with a WHILE loop"
   ]
  },
  {
   "cell_type": "code",
   "execution_count": null,
   "metadata": {},
   "outputs": [],
   "source": []
  },
  {
   "cell_type": "markdown",
   "metadata": {},
   "source": [
    "### Can also run as a FOR loop, but we'd need to know the final # of iterations"
   ]
  },
  {
   "cell_type": "code",
   "execution_count": null,
   "metadata": {},
   "outputs": [],
   "source": []
  }
 ],
 "metadata": {
  "kernelspec": {
   "display_name": "Python 3",
   "language": "python",
   "name": "python3"
  },
  "language_info": {
   "codemirror_mode": {
    "name": "ipython",
    "version": 3
   },
   "file_extension": ".py",
   "mimetype": "text/x-python",
   "name": "python",
   "nbconvert_exporter": "python",
   "pygments_lexer": "ipython3",
   "version": "3.7.6"
  }
 },
 "nbformat": 4,
 "nbformat_minor": 4
}
