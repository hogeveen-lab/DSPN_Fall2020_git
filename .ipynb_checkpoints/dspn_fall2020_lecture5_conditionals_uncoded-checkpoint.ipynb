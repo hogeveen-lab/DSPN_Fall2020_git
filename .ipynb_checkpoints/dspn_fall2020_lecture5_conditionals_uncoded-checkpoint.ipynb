{
 "cells": [
  {
   "cell_type": "markdown",
   "metadata": {},
   "source": [
    "# Data Science in Psychology & Neuroscience (DSPN): \n",
    "\n",
    "## Lecture 5. Conditionals\n",
    "\n",
    "### Date: September 1, 2020\n",
    "\n",
    "### To-Dos From Last Class:\n",
    "\n",
    "* Submit Assignment #1: <a href=\"https://www.dropbox.com/request/VNNoOUDkK7Vpw4N6l1wv\">Oscillator</a> (before 9/1, 23:00 MDT)\n",
    "\n",
    "### Today:\n",
    "\n",
    "* if\n",
    "* elif\n",
    "* else\n",
    "* Multiple criteria (Boolean operators)\n",
    "* Conditionals+iterations\n",
    "\n",
    "### Homework\n",
    "\n",
    "* Read short primer on the \"integrate and fire\" neuron\n",
    "* Download Assignment #2 starter kit from <a href=\"https://github.com/hogeveen-lab/DSPN_Fall2020_git\">github</a>"
   ]
  },
  {
   "cell_type": "markdown",
   "metadata": {},
   "source": [
    "# Conditionals: IF\n",
    "\n",
    "* __IF__ statements check for a condition, and only execute a set of code if the condition is _True_.\n",
    "    * What type of logic is this?]"
   ]
  },
  {
   "cell_type": "code",
   "execution_count": null,
   "metadata": {},
   "outputs": [],
   "source": []
  },
  {
   "cell_type": "code",
   "execution_count": null,
   "metadata": {},
   "outputs": [],
   "source": []
  },
  {
   "cell_type": "code",
   "execution_count": null,
   "metadata": {},
   "outputs": [],
   "source": []
  },
  {
   "cell_type": "markdown",
   "metadata": {},
   "source": [
    "# Conditionals: ELSE\n",
    "\n",
    "* __ELSE__ statements always appear after an __IF__, and explicitly define an alternative action plan. \n",
    "* A simple __IF then ELSE__ sequence is useful if you are looking for a solution with _two_ possible outputs."
   ]
  },
  {
   "cell_type": "code",
   "execution_count": null,
   "metadata": {},
   "outputs": [],
   "source": []
  },
  {
   "cell_type": "code",
   "execution_count": null,
   "metadata": {},
   "outputs": [],
   "source": []
  },
  {
   "cell_type": "code",
   "execution_count": null,
   "metadata": {},
   "outputs": [],
   "source": []
  },
  {
   "cell_type": "markdown",
   "metadata": {},
   "source": [
    "# Conditionals: ELIF\n",
    "\n",
    "* When the solution requires >2 possible outputs, any number of __ELIF__ (aka __ELSEIF__ in MATLAB, __ELSE IF__ in R) statements can be chained together _after_ an __IF__.\n",
    "* A subsequent __ELSE__ is not required, but if you leave it out then the code will return nothing if both __IF__ and __ELIF__ are not _True_.\n",
    "* __ELIF__ after __ELSE__ does not make sense.\n",
    "\n"
   ]
  },
  {
   "cell_type": "code",
   "execution_count": null,
   "metadata": {},
   "outputs": [],
   "source": []
  },
  {
   "cell_type": "code",
   "execution_count": null,
   "metadata": {},
   "outputs": [],
   "source": []
  },
  {
   "cell_type": "markdown",
   "metadata": {},
   "source": [
    "# Multiple criteria to be satisfied (add Boolean operators)\n",
    "\n",
    "* When using these, think how you use Google search \n",
    "    * \"Portobello burger\" AND \"soy sauce\"\n",
    "    * \"Portobello burger\" OR \"black bean burger\"\n",
    "    * \"Portobello burger\" NOT \"balsamic vinegar\"\n",
    "* __AND__ can be used when multiple criteria must be satisfied to return a given output."
   ]
  },
  {
   "cell_type": "code",
   "execution_count": null,
   "metadata": {},
   "outputs": [],
   "source": []
  },
  {
   "cell_type": "markdown",
   "metadata": {},
   "source": [
    "* __OR__ can be used when any of the listed criteria can be satisfied to return a given output."
   ]
  },
  {
   "cell_type": "code",
   "execution_count": null,
   "metadata": {},
   "outputs": [],
   "source": []
  },
  {
   "cell_type": "markdown",
   "metadata": {},
   "source": [
    "# Conditional expressions within a FOR loop\n",
    "\n",
    "* Sometimes, you might want to iterate over something and make decisions as you go\n",
    "\n",
    "## Miscellaneous conditional / loop exercises:\n",
    "\n",
    "1.  Write a Python program that prints all the numbers from 0 to 10 except 2, 6, and 9.\n"
   ]
  },
  {
   "cell_type": "markdown",
   "metadata": {},
   "source": []
  },
  {
   "cell_type": "markdown",
   "metadata": {},
   "source": [
    "2. Create two random 10-number integer arrays from 0-100. For each pair of integers, if they are both over or under 50 return the number 1, otherwise return 0"
   ]
  },
  {
   "cell_type": "code",
   "execution_count": null,
   "metadata": {},
   "outputs": [],
   "source": []
  },
  {
   "cell_type": "markdown",
   "metadata": {},
   "source": [
    "3. What will the output of this code chunk be?"
   ]
  },
  {
   "cell_type": "code",
   "execution_count": null,
   "metadata": {},
   "outputs": [],
   "source": [
    "conditional = False\n",
    "python = \"great\"\n",
    "\n",
    "if conditional:\n",
    "    if python == \"great\":\n",
    "        print(\"Yay Python!\")\n",
    "    else:\n",
    "        print(\"Oh no.\")\n",
    "else:\n",
    "    print(\"I'm here.\")"
   ]
  },
  {
   "cell_type": "code",
   "execution_count": null,
   "metadata": {},
   "outputs": [],
   "source": []
  },
  {
   "cell_type": "markdown",
   "metadata": {},
   "source": [
    "4. What will the output of this code chunk be?"
   ]
  },
  {
   "cell_type": "code",
   "execution_count": null,
   "metadata": {},
   "outputs": [],
   "source": [
    "bool(2 + 2 >= 4)"
   ]
  }
 ],
 "metadata": {
  "kernelspec": {
   "display_name": "Python 3",
   "language": "python",
   "name": "python3"
  },
  "language_info": {
   "codemirror_mode": {
    "name": "ipython",
    "version": 3
   },
   "file_extension": ".py",
   "mimetype": "text/x-python",
   "name": "python",
   "nbconvert_exporter": "python",
   "pygments_lexer": "ipython3",
   "version": "3.7.6"
  }
 },
 "nbformat": 4,
 "nbformat_minor": 4
}
