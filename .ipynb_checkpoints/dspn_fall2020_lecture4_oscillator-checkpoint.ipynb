{
 "cells": [
  {
   "cell_type": "markdown",
   "metadata": {},
   "source": [
    "# Data Science in Psychology & Neuroscience (DSPN): \n",
    "\n",
    "## Lecture 4. Oscillator\n",
    "\n",
    "### Date: August 27, 2020\n",
    "\n",
    "### To-Dos From Last Class:\n",
    "\n",
    "* Downloaded oscillator starter kit from <a href=\"https://github.com/hogeveen-lab/DSPN_Fall2020_git\">github</a>\n",
    "\n",
    "### Today:\n",
    "\n",
    "* Complete spreadsheet version of the oscillator\n",
    "* Set up conversion to Python\n",
    "\n",
    "### Homework\n",
    "\n",
    "* Submit Assignment #1: <a href=\"https://www.dropbox.com/request/VNNoOUDkK7Vpw4N6l1wv\">Oscillator</a> (before 9/1, 23:00 MST)"
   ]
  },
  {
   "cell_type": "markdown",
   "metadata": {},
   "source": [
    "# Background\n",
    "\n",
    "## What is oscillation?\n",
    "* Repetitive variation of some measure across time around a central value\n",
    "    * Examples in neuroscience?\n",
    "* e.g. Motion of a mass on a spring\n",
    "\n",
    "<img src=\"img/oscillator_spring.gif\">\n",
    "\n",
    "## Why?\n",
    "1. It is good to start with simple situations.\n",
    "2. It is good to start with scenarios where you can trust your intuitions.\n",
    "3. It is good if you can start with examples where you can \"look up\" the right answer, before implementing models for which you do not have the right answer.\n",
    "\n",
    "## Analytic formalization\n",
    "\n",
    "* The acceleration (a) of our weight at a point in time (t) is equal to a constant (P) and our current location (s).\n",
    "\n",
    "$ a(t) = -Ps(t) $\n",
    "\n",
    "* Acceleration is also a function of the change in velocity over time\n",
    "\n",
    "$ Acceleration = \\frac{dV}{dt} $\n",
    "\n",
    "* In English, the oscillator's position changes as a function of acceleration, and in turn acceleration is a function of velocity over time.\n",
    "\n",
    "__We can solve this using Euler's Method for differential equations, or...__\n",
    "\n",
    "# Brute force oscillator in Microsoft Excel\n",
    "\n",
    "* Basic logic: We figure out how much position, velocity, and acceleration have changed by multiplying those values to how much time has passed.\n",
    "    * We add this scaling factor to our old value to get a new value.\n",
    "    * The new value then becomes the old value, rinse, repeat.\n",
    "        * This is a golden rule of iteration: $New = Old + Change * Time$\n",
    "* Variables we need -- and initial state\n",
    "    * $P$, constant -- Choose an integer (e.g. 20), can tweak later to see what it does.\n",
    "    * $t$, time -- Where does this start?\n",
    "    * $dt$, time step -- Choose a small float (e.g. 0.05 seconds).\n",
    "    * $s$, position -- start it at 1, then update based on $ds$.\n",
    "    * $a$, acceleration -- we know this as $-1*P*s(t)$\n",
    "    * $v$, velocity -- where does this start?\n",
    "    * $dv$, change in velocity -- $a * t$\n",
    "    * $ds$, change in position -- $(v + dv) / dt$\n",
    "* Set an initial/baseline state\n",
    "* Update state after first time step / iteration\n",
    "* Iterate 50 times\n",
    "* Plot $s(t)$"
   ]
  },
  {
   "cell_type": "markdown",
   "metadata": {},
   "source": [
    "# Assignment #1: Convert to a Python Code for the Harmonic Oscillator\n",
    "## BONUS: i) Code it without using the starter. \n",
    "## ii) Add a damped oscillator."
   ]
  },
  {
   "cell_type": "code",
   "execution_count": null,
   "metadata": {},
   "outputs": [],
   "source": []
  }
 ],
 "metadata": {
  "kernelspec": {
   "display_name": "Python 3",
   "language": "python",
   "name": "python3"
  },
  "language_info": {
   "codemirror_mode": {
    "name": "ipython",
    "version": 3
   },
   "file_extension": ".py",
   "mimetype": "text/x-python",
   "name": "python",
   "nbconvert_exporter": "python",
   "pygments_lexer": "ipython3",
   "version": "3.7.6"
  }
 },
 "nbformat": 4,
 "nbformat_minor": 4
}
