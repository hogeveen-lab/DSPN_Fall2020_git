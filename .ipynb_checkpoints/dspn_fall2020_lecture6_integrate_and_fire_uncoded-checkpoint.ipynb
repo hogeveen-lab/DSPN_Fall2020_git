{
 "cells": [
  {
   "cell_type": "markdown",
   "metadata": {},
   "source": [
    "# Data Science in Psychology & Neuroscience (DSPN): \n",
    "\n",
    "## Lecture 6. Integrate-and-fire neuron\n",
    "\n",
    "### Date: September 3, 2020\n",
    "\n",
    "### To-Dos From Last Class:\n",
    "\n",
    "* Read short primer on the \"integrate and fire\" neuron\n",
    "* Download Assignment #2 starter kit from <a href=\"https://github.com/hogeveen-lab/DSPN_Fall2020_git\">github</a>\n",
    "\n",
    "### Today:\n",
    "\n",
    "* Introduction to the action potential, and Lapicque's model\n",
    "* Spreadsheet implementation\n",
    "\n",
    "### Homework\n",
    "\n",
    "* Submit Assignment #2: <a href=\"https://www.dropbox.com/request/5VcxN4lRaTL4CMk5JGSR\">Integrate & Fire</a> (before 9/10, 23:00 MDT)"
   ]
  },
  {
   "cell_type": "code",
   "execution_count": null,
   "metadata": {},
   "outputs": [],
   "source": []
  }
 ],
 "metadata": {
  "kernelspec": {
   "display_name": "Python 3",
   "language": "python",
   "name": "python3"
  },
  "language_info": {
   "codemirror_mode": {
    "name": "ipython",
    "version": 3
   },
   "file_extension": ".py",
   "mimetype": "text/x-python",
   "name": "python",
   "nbconvert_exporter": "python",
   "pygments_lexer": "ipython3",
   "version": "3.7.6"
  }
 },
 "nbformat": 4,
 "nbformat_minor": 4
}
