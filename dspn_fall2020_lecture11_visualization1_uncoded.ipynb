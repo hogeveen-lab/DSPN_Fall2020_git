{
 "cells": [
  {
   "cell_type": "markdown",
   "metadata": {},
   "source": [
    "# Data Science in Psychology & Neuroscience (DSPN): \n",
    "\n",
    "## Lecture 11. Data Visualization (part 1)\n",
    "\n",
    "### Date: September 29, 2020\n",
    "\n",
    "### To-Dos From Last Class:\n",
    "\n",
    "* Work on Assignment #3\n",
    "* Install R\n",
    "    \n",
    "### Today:\n",
    "\n",
    "* RStudio (.R, .Rmd)\n",
    "* Tidyverse & ggplot\n",
    "    * For additional reading, see <a href='https://r4ds.had.co.nz/'>R for Data Science</a> and <a href=\"https://www.moderndive.com/\">Statistical Inference via Data Science</a>\n",
    "* Play around with a sample dataset\n",
    "\n",
    "### Homework\n",
    "\n",
    "* Assignment #3: <a href=\"https://www.dropbox.com/request/fohpUaInmJjV5fxd6Hhe\">Data Wrangling</a> (before 10/1, 23:00 MDT)"
   ]
  },
  {
   "cell_type": "markdown",
   "metadata": {},
   "source": [
    "# RStudio\n",
    "\n",
    "* R is a language, RStudio is an IDE\n",
    "\n",
    "<img src='img/r_vs_rstudio.png' width='600'>\n",
    "\n",
    "## Rmarkdown\n",
    "\n",
    "* .R files --> Basic R scripts written and executed in RStudio\n",
    "* .Rmd files --> RMarkdown files merging markdown and code chunks (similar to Jupyter)"
   ]
  },
  {
   "cell_type": "markdown",
   "metadata": {},
   "source": [
    "# What is `tidyverse`?\n",
    "\n",
    "## Definition\n",
    "\n",
    "* Set of R packages\n",
    "    * Includes ggplot, dplyr, tidyr, etc.\n",
    "* All packages share an underlying design philosophy, grammar, and data structures.\n",
    "    * <a href=\"https://www.tidyverse.org\">For more info</a>\n",
    "    \n",
    "## Why do I use it?\n",
    "\n",
    "* ggplot\n",
    "* Most of the inferential modeling I do is in R\n",
    "    * Nearly all of these modeling functions play nicely with tidy data frames"
   ]
  },
  {
   "cell_type": "code",
   "execution_count": null,
   "metadata": {},
   "outputs": [],
   "source": []
  }
 ],
 "metadata": {
  "kernelspec": {
   "display_name": "R",
   "language": "R",
   "name": "ir"
  },
  "language_info": {
   "codemirror_mode": "r",
   "file_extension": ".r",
   "mimetype": "text/x-r-source",
   "name": "R",
   "pygments_lexer": "r",
   "version": "3.5.0"
  }
 },
 "nbformat": 4,
 "nbformat_minor": 4
}
